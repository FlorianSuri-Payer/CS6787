{
 "cells": [
  {
   "cell_type": "code",
   "execution_count": 69,
   "metadata": {},
   "outputs": [],
   "source": [
    "import numpy as np\n",
    "import pandas as pd\n",
    "import tensorflow as tf\n",
    "from kaggle.competitions import nflrush\n",
    "import time\n",
    "import tensorflow as tf\n",
    "from tensorflow import keras\n",
    "import matplotlib.pyplot as plt\n",
    "\n"
   ]
  },
  {
   "cell_type": "code",
   "execution_count": 70,
   "metadata": {},
   "outputs": [
    {
     "ename": "Exception",
     "evalue": "You can only call `make_env()` once.",
     "output_type": "error",
     "traceback": [
      "\u001b[0;31m---------------------------------------------------------------------------\u001b[0m",
      "\u001b[0;31mException\u001b[0m                                 Traceback (most recent call last)",
      "\u001b[0;32m<ipython-input-70-849564dbc694>\u001b[0m in \u001b[0;36m<module>\u001b[0;34m\u001b[0m\n\u001b[0;32m----> 1\u001b[0;31m \u001b[0menv\u001b[0m \u001b[0;34m=\u001b[0m \u001b[0mnflrush\u001b[0m\u001b[0;34m.\u001b[0m\u001b[0mmake_env\u001b[0m\u001b[0;34m(\u001b[0m\u001b[0;34m)\u001b[0m\u001b[0;34m\u001b[0m\u001b[0;34m\u001b[0m\u001b[0m\n\u001b[0m",
      "\u001b[0;32m~/Classes/CS6787/Project/nfl-big-data-bowl-2020/kaggle/competitions/nflrush/competition.cpython-36m-x86_64-linux-gnu.so\u001b[0m in \u001b[0;36mcompetition.make_env\u001b[0;34m()\u001b[0m\n",
      "\u001b[0;31mException\u001b[0m: You can only call `make_env()` once."
     ]
    }
   ],
   "source": [
    "env = nflrush.make_env()"
   ]
  },
  {
   "cell_type": "code",
   "execution_count": 423,
   "metadata": {},
   "outputs": [],
   "source": [
    "data = pd.read_csv('train.csv', low_memory = False)\n"
   ]
  },
  {
   "cell_type": "code",
   "execution_count": 424,
   "metadata": {},
   "outputs": [
    {
     "data": {
      "text/html": [
       "<div>\n",
       "<style scoped>\n",
       "    .dataframe tbody tr th:only-of-type {\n",
       "        vertical-align: middle;\n",
       "    }\n",
       "\n",
       "    .dataframe tbody tr th {\n",
       "        vertical-align: top;\n",
       "    }\n",
       "\n",
       "    .dataframe thead th {\n",
       "        text-align: right;\n",
       "    }\n",
       "</style>\n",
       "<table border=\"1\" class=\"dataframe\">\n",
       "  <thead>\n",
       "    <tr style=\"text-align: right;\">\n",
       "      <th></th>\n",
       "      <th>GameId</th>\n",
       "      <th>PlayId</th>\n",
       "      <th>Team</th>\n",
       "      <th>X</th>\n",
       "      <th>Y</th>\n",
       "      <th>S</th>\n",
       "      <th>A</th>\n",
       "      <th>Dis</th>\n",
       "      <th>Orientation</th>\n",
       "      <th>Dir</th>\n",
       "      <th>...</th>\n",
       "      <th>Week</th>\n",
       "      <th>Stadium</th>\n",
       "      <th>Location</th>\n",
       "      <th>StadiumType</th>\n",
       "      <th>Turf</th>\n",
       "      <th>GameWeather</th>\n",
       "      <th>Temperature</th>\n",
       "      <th>Humidity</th>\n",
       "      <th>WindSpeed</th>\n",
       "      <th>WindDirection</th>\n",
       "    </tr>\n",
       "  </thead>\n",
       "  <tbody>\n",
       "    <tr>\n",
       "      <th>0</th>\n",
       "      <td>2017090700</td>\n",
       "      <td>20170907000118</td>\n",
       "      <td>away</td>\n",
       "      <td>73.91</td>\n",
       "      <td>34.84</td>\n",
       "      <td>1.69</td>\n",
       "      <td>1.13</td>\n",
       "      <td>0.40</td>\n",
       "      <td>81.99</td>\n",
       "      <td>177.18</td>\n",
       "      <td>...</td>\n",
       "      <td>1</td>\n",
       "      <td>Gillette Stadium</td>\n",
       "      <td>Foxborough, MA</td>\n",
       "      <td>Outdoor</td>\n",
       "      <td>Field Turf</td>\n",
       "      <td>Clear and warm</td>\n",
       "      <td>63.0</td>\n",
       "      <td>77.0</td>\n",
       "      <td>8</td>\n",
       "      <td>SW</td>\n",
       "    </tr>\n",
       "    <tr>\n",
       "      <th>1</th>\n",
       "      <td>2017090700</td>\n",
       "      <td>20170907000118</td>\n",
       "      <td>away</td>\n",
       "      <td>74.67</td>\n",
       "      <td>32.64</td>\n",
       "      <td>0.42</td>\n",
       "      <td>1.35</td>\n",
       "      <td>0.01</td>\n",
       "      <td>27.61</td>\n",
       "      <td>198.70</td>\n",
       "      <td>...</td>\n",
       "      <td>1</td>\n",
       "      <td>Gillette Stadium</td>\n",
       "      <td>Foxborough, MA</td>\n",
       "      <td>Outdoor</td>\n",
       "      <td>Field Turf</td>\n",
       "      <td>Clear and warm</td>\n",
       "      <td>63.0</td>\n",
       "      <td>77.0</td>\n",
       "      <td>8</td>\n",
       "      <td>SW</td>\n",
       "    </tr>\n",
       "    <tr>\n",
       "      <th>2</th>\n",
       "      <td>2017090700</td>\n",
       "      <td>20170907000118</td>\n",
       "      <td>away</td>\n",
       "      <td>74.00</td>\n",
       "      <td>33.20</td>\n",
       "      <td>1.22</td>\n",
       "      <td>0.59</td>\n",
       "      <td>0.31</td>\n",
       "      <td>3.01</td>\n",
       "      <td>202.73</td>\n",
       "      <td>...</td>\n",
       "      <td>1</td>\n",
       "      <td>Gillette Stadium</td>\n",
       "      <td>Foxborough, MA</td>\n",
       "      <td>Outdoor</td>\n",
       "      <td>Field Turf</td>\n",
       "      <td>Clear and warm</td>\n",
       "      <td>63.0</td>\n",
       "      <td>77.0</td>\n",
       "      <td>8</td>\n",
       "      <td>SW</td>\n",
       "    </tr>\n",
       "    <tr>\n",
       "      <th>3</th>\n",
       "      <td>2017090700</td>\n",
       "      <td>20170907000118</td>\n",
       "      <td>away</td>\n",
       "      <td>71.46</td>\n",
       "      <td>27.70</td>\n",
       "      <td>0.42</td>\n",
       "      <td>0.54</td>\n",
       "      <td>0.02</td>\n",
       "      <td>359.77</td>\n",
       "      <td>105.64</td>\n",
       "      <td>...</td>\n",
       "      <td>1</td>\n",
       "      <td>Gillette Stadium</td>\n",
       "      <td>Foxborough, MA</td>\n",
       "      <td>Outdoor</td>\n",
       "      <td>Field Turf</td>\n",
       "      <td>Clear and warm</td>\n",
       "      <td>63.0</td>\n",
       "      <td>77.0</td>\n",
       "      <td>8</td>\n",
       "      <td>SW</td>\n",
       "    </tr>\n",
       "    <tr>\n",
       "      <th>4</th>\n",
       "      <td>2017090700</td>\n",
       "      <td>20170907000118</td>\n",
       "      <td>away</td>\n",
       "      <td>69.32</td>\n",
       "      <td>35.42</td>\n",
       "      <td>1.82</td>\n",
       "      <td>2.43</td>\n",
       "      <td>0.16</td>\n",
       "      <td>12.63</td>\n",
       "      <td>164.31</td>\n",
       "      <td>...</td>\n",
       "      <td>1</td>\n",
       "      <td>Gillette Stadium</td>\n",
       "      <td>Foxborough, MA</td>\n",
       "      <td>Outdoor</td>\n",
       "      <td>Field Turf</td>\n",
       "      <td>Clear and warm</td>\n",
       "      <td>63.0</td>\n",
       "      <td>77.0</td>\n",
       "      <td>8</td>\n",
       "      <td>SW</td>\n",
       "    </tr>\n",
       "  </tbody>\n",
       "</table>\n",
       "<p>5 rows × 49 columns</p>\n",
       "</div>"
      ],
      "text/plain": [
       "       GameId          PlayId  Team      X      Y     S     A   Dis  \\\n",
       "0  2017090700  20170907000118  away  73.91  34.84  1.69  1.13  0.40   \n",
       "1  2017090700  20170907000118  away  74.67  32.64  0.42  1.35  0.01   \n",
       "2  2017090700  20170907000118  away  74.00  33.20  1.22  0.59  0.31   \n",
       "3  2017090700  20170907000118  away  71.46  27.70  0.42  0.54  0.02   \n",
       "4  2017090700  20170907000118  away  69.32  35.42  1.82  2.43  0.16   \n",
       "\n",
       "   Orientation     Dir  ...  Week           Stadium        Location  \\\n",
       "0        81.99  177.18  ...     1  Gillette Stadium  Foxborough, MA   \n",
       "1        27.61  198.70  ...     1  Gillette Stadium  Foxborough, MA   \n",
       "2         3.01  202.73  ...     1  Gillette Stadium  Foxborough, MA   \n",
       "3       359.77  105.64  ...     1  Gillette Stadium  Foxborough, MA   \n",
       "4        12.63  164.31  ...     1  Gillette Stadium  Foxborough, MA   \n",
       "\n",
       "   StadiumType        Turf     GameWeather Temperature Humidity  WindSpeed  \\\n",
       "0      Outdoor  Field Turf  Clear and warm        63.0     77.0          8   \n",
       "1      Outdoor  Field Turf  Clear and warm        63.0     77.0          8   \n",
       "2      Outdoor  Field Turf  Clear and warm        63.0     77.0          8   \n",
       "3      Outdoor  Field Turf  Clear and warm        63.0     77.0          8   \n",
       "4      Outdoor  Field Turf  Clear and warm        63.0     77.0          8   \n",
       "\n",
       "   WindDirection  \n",
       "0             SW  \n",
       "1             SW  \n",
       "2             SW  \n",
       "3             SW  \n",
       "4             SW  \n",
       "\n",
       "[5 rows x 49 columns]"
      ]
     },
     "execution_count": 424,
     "metadata": {},
     "output_type": "execute_result"
    }
   ],
   "source": [
    "data.head()"
   ]
  },
  {
   "cell_type": "code",
   "execution_count": 425,
   "metadata": {},
   "outputs": [
    {
     "data": {
      "text/plain": [
       "509762"
      ]
     },
     "execution_count": 425,
     "metadata": {},
     "output_type": "execute_result"
    }
   ],
   "source": [
    "data.shape[0]"
   ]
  },
  {
   "cell_type": "code",
   "execution_count": 450,
   "metadata": {},
   "outputs": [],
   "source": [
    "#split into training and labels\n",
    "train = data.drop(['Yards'], axis=1).copy()\n",
    "label = data['Yards'].copy()"
   ]
  },
  {
   "cell_type": "code",
   "execution_count": 451,
   "metadata": {},
   "outputs": [
    {
     "data": {
      "text/plain": [
       "WindDirection             80234\n",
       "WindSpeed                 67430\n",
       "Temperature               48532\n",
       "GameWeather               43648\n",
       "StadiumType               32934\n",
       "FieldPosition              6424\n",
       "Humidity                   6160\n",
       "OffenseFormation            110\n",
       "DefendersInTheBox            66\n",
       "Orientation                  18\n",
       "Dir                          14\n",
       "Season                        0\n",
       "Down                          0\n",
       "PossessionTeam                0\n",
       "GameClock                     0\n",
       "Quarter                       0\n",
       "YardLine                      0\n",
       "PlayId                        0\n",
       "Team                          0\n",
       "DisplayName                   0\n",
       "NflId                         0\n",
       "Distance                      0\n",
       "Dis                           0\n",
       "A                             0\n",
       "S                             0\n",
       "Y                             0\n",
       "X                             0\n",
       "JerseyNumber                  0\n",
       "NflIdRusher                   0\n",
       "HomeScoreBeforePlay           0\n",
       "PlayerCollegeName             0\n",
       "Turf                          0\n",
       "Location                      0\n",
       "Stadium                       0\n",
       "Week                          0\n",
       "VisitorTeamAbbr               0\n",
       "HomeTeamAbbr                  0\n",
       "Position                      0\n",
       "PlayerBirthDate               0\n",
       "VisitorScoreBeforePlay        0\n",
       "PlayerWeight                  0\n",
       "PlayerHeight                  0\n",
       "TimeSnap                      0\n",
       "TimeHandoff                   0\n",
       "PlayDirection                 0\n",
       "DefensePersonnel              0\n",
       "OffensePersonnel              0\n",
       "GameId                        0\n",
       "dtype: int64"
      ]
     },
     "execution_count": 451,
     "metadata": {},
     "output_type": "execute_result"
    }
   ],
   "source": [
    "train.isna().sum().sort_values(ascending=False)"
   ]
  },
  {
   "cell_type": "code",
   "execution_count": 452,
   "metadata": {},
   "outputs": [],
   "source": [
    "#train['WindSpeed'].value_counts()"
   ]
  },
  {
   "cell_type": "code",
   "execution_count": 453,
   "metadata": {},
   "outputs": [],
   "source": [
    "#TODO\n",
    "# clean up missing data\n",
    "# preprocess features and standardize them\n",
    "# encode categorical features\n",
    "#https://www.kaggle.com/shahules/how-about-some-nn-keras-starter"
   ]
  },
  {
   "cell_type": "code",
   "execution_count": 454,
   "metadata": {},
   "outputs": [],
   "source": [
    "#WindDirection\n",
    "# This function has been updated to reflect what Subin An (https://www.kaggle.com/subinium) mentioned in comments below.\n",
    "# WindDirection is indicated by the direction that wind is flowing FROM - https://en.wikipedia.org/wiki/Wind_direction\n",
    "\n",
    "def clean_wind_direction(wind_direction):\n",
    "    wd = str(wind_direction).upper()\n",
    "    if wd == 'N' or 'FROM N' in wd:\n",
    "        return 'north'\n",
    "    if wd == 'S' or 'FROM S' in wd:\n",
    "        return 'south'\n",
    "    if wd == 'W' or 'FROM W' in wd:\n",
    "        return 'west'\n",
    "    if wd == 'E' or 'FROM E' in wd:\n",
    "        return 'east'\n",
    "    \n",
    "    if 'FROM SW' in wd or 'FROM SSW' in wd or 'FROM WSW' in wd:\n",
    "        return 'south west'\n",
    "    if 'FROM SE' in wd or 'FROM SSE' in wd or 'FROM ESE' in wd:\n",
    "        return 'south east'\n",
    "    if 'FROM NW' in wd or 'FROM NNW' in wd or 'FROM WNW' in wd:\n",
    "        return 'north west'\n",
    "    if 'FROM NE' in wd or 'FROM NNE' in wd or 'FROM ENE' in wd:\n",
    "        return 'north east'\n",
    "    \n",
    "    if 'NW' in wd or 'NORTHWEST' in wd:\n",
    "        return 'north west'\n",
    "    if 'NE' in wd or 'NORTH EAST' in wd:\n",
    "        return 'north east'\n",
    "    if 'SW' in wd or 'SOUTHWEST' in wd:\n",
    "        return 'south west'\n",
    "    if 'SE' in wd or 'SOUTHEAST' in wd:\n",
    "        return 'south east'\n",
    "\n",
    "    return 'none'\n",
    "\n",
    "train['WindDirection'] = train['WindDirection'].apply(clean_wind_direction)"
   ]
  },
  {
   "cell_type": "code",
   "execution_count": 455,
   "metadata": {},
   "outputs": [],
   "source": [
    "#Windspeed\n",
    "def windspeed(x):\n",
    "    x=str(x)\n",
    "    if x.isdigit():\n",
    "        return int(x)\n",
    "    elif (x.isalpha()):\n",
    "        return np.nan\n",
    "    elif (x.isalnum()):\n",
    "        return int(x.upper().split('M')[0])                             #return 12 incase of 12mp or 12 MPH\n",
    "    elif '-' in x:\n",
    "        return int((int(x.split('-')[0])+int(x.split('-')[1]))/2)   # return average windspeed incase of 11 - 20 etc..\n",
    "    else:\n",
    "        return np.nan\n",
    "    \n",
    "\n",
    "train['WindSpeed']=train['WindSpeed'].apply(windspeed)\n",
    "\n",
    "train['WindSpeed'].fillna(train['WindSpeed'].median(),inplace=True)\n"
   ]
  },
  {
   "cell_type": "code",
   "execution_count": 456,
   "metadata": {},
   "outputs": [
    {
     "data": {
      "text/plain": [
       "0.0     45254\n",
       "70.0    28908\n",
       "56.0    13420\n",
       "67.0    13288\n",
       "42.0    12782\n",
       "        ...  \n",
       "24.0     1034\n",
       "14.0      968\n",
       "7.0       968\n",
       "29.0      902\n",
       "32.0      880\n",
       "Name: Humidity, Length: 86, dtype: int64"
      ]
     },
     "execution_count": 456,
     "metadata": {},
     "output_type": "execute_result"
    }
   ],
   "source": [
    "train['Humidity'].value_counts()"
   ]
  },
  {
   "cell_type": "code",
   "execution_count": 457,
   "metadata": {},
   "outputs": [
    {
     "data": {
      "text/plain": [
       "0"
      ]
     },
     "execution_count": 457,
     "metadata": {},
     "output_type": "execute_result"
    }
   ],
   "source": [
    "# Humidity and Temperature\n",
    "train['Humidity'].fillna(method='ffill', inplace=True)\n",
    "#interpolate()\n",
    "train['Humidity'].isna().sum()"
   ]
  },
  {
   "cell_type": "code",
   "execution_count": null,
   "metadata": {},
   "outputs": [],
   "source": []
  },
  {
   "cell_type": "code",
   "execution_count": 460,
   "metadata": {},
   "outputs": [],
   "source": [
    "train['Temperature'].fillna(method='ffill', inplace=True)"
   ]
  },
  {
   "cell_type": "code",
   "execution_count": 461,
   "metadata": {},
   "outputs": [
    {
     "data": {
      "text/plain": [
       "GameWeather               43648\n",
       "StadiumType               32934\n",
       "FieldPosition              6424\n",
       "OffenseFormation            110\n",
       "DefendersInTheBox            66\n",
       "Orientation                  18\n",
       "Dir                          14\n",
       "JerseyNumber                  0\n",
       "Distance                      0\n",
       "Down                          0\n",
       "PossessionTeam                0\n",
       "GameClock                     0\n",
       "Quarter                       0\n",
       "YardLine                      0\n",
       "Season                        0\n",
       "WindDirection                 0\n",
       "DisplayName                   0\n",
       "HomeScoreBeforePlay           0\n",
       "Dis                           0\n",
       "A                             0\n",
       "S                             0\n",
       "Y                             0\n",
       "X                             0\n",
       "Team                          0\n",
       "PlayId                        0\n",
       "NflId                         0\n",
       "NflIdRusher                   0\n",
       "VisitorScoreBeforePlay        0\n",
       "Position                      0\n",
       "Humidity                      0\n",
       "Temperature                   0\n",
       "Turf                          0\n",
       "Location                      0\n",
       "Stadium                       0\n",
       "Week                          0\n",
       "VisitorTeamAbbr               0\n",
       "HomeTeamAbbr                  0\n",
       "PlayerCollegeName             0\n",
       "WindSpeed                     0\n",
       "PlayerBirthDate               0\n",
       "PlayerWeight                  0\n",
       "PlayerHeight                  0\n",
       "TimeSnap                      0\n",
       "TimeHandoff                   0\n",
       "PlayDirection                 0\n",
       "DefensePersonnel              0\n",
       "OffensePersonnel              0\n",
       "GameId                        0\n",
       "dtype: int64"
      ]
     },
     "execution_count": 461,
     "metadata": {},
     "output_type": "execute_result"
    }
   ],
   "source": [
    "train.isna().sum().sort_values(ascending=False)"
   ]
  },
  {
   "cell_type": "code",
   "execution_count": 14,
   "metadata": {},
   "outputs": [
    {
     "name": "stdout",
     "output_type": "stream",
     "text": [
      "180.24777914011733\n"
     ]
    },
    {
     "data": {
      "text/plain": [
       "0"
      ]
     },
     "execution_count": 14,
     "metadata": {},
     "output_type": "execute_result"
    }
   ],
   "source": [
    "# Orientation, Direction, Defenders, Offense\n",
    "print(np.nanmean(train['Orientation'].values))\n",
    "na_map = {\n",
    "    'Orientation': train['Orientation'].mean(),\n",
    "    'Dir': train['Dir'].mean(),\n",
    "    'DefendersInTheBox': (train['DefendersInTheBox'].median()),\n",
    "    'OffenseFormation': 'blank'\n",
    "}\n",
    "\n",
    "train.fillna(na_map, inplace=True)\n",
    "train['DefendersInTheBox'].isna().sum()"
   ]
  },
  {
   "cell_type": "code",
   "execution_count": 15,
   "metadata": {},
   "outputs": [
    {
     "name": "stdout",
     "output_type": "stream",
     "text": [
      "6424\n",
      "0\n"
     ]
    }
   ],
   "source": [
    "#Field Position, undefined when yard line = 50\n",
    "print(train['FieldPosition'].isna().sum())\n",
    "train['FieldPosition'] = np.where(train['YardLine'] == 50, train['PossessionTeam'], train['FieldPosition'])\n",
    "print(train['FieldPosition'].isna().sum())"
   ]
  },
  {
   "cell_type": "code",
   "execution_count": 16,
   "metadata": {},
   "outputs": [],
   "source": [
    "#Game weather\n",
    "def group_game_weather(weather):\n",
    "    rain = [\n",
    "        'Rainy', 'Rain Chance 40%', 'Showers',\n",
    "        'Cloudy with periods of rain, thunder possible. Winds shifting to WNW, 10-20 mph.',\n",
    "        'Scattered Showers', 'Cloudy, Rain', 'Rain shower', 'Light Rain', 'Rain'\n",
    "    ]\n",
    "    overcast = [\n",
    "        'Cloudy, light snow accumulating 1-3\"', 'Party Cloudy', 'Cloudy, chance of rain',\n",
    "        'Coudy', 'Cloudy, 50% change of rain', 'Rain likely, temps in low 40s.',\n",
    "        'Cloudy and cold', 'Cloudy, fog started developing in 2nd quarter',\n",
    "        'Partly Clouidy', '30% Chance of Rain', 'Mostly Coudy', 'Cloudy and Cool',\n",
    "        'cloudy', 'Partly cloudy', 'Overcast', 'Hazy', 'Mostly cloudy', 'Mostly Cloudy',\n",
    "        'Partly Cloudy', 'Cloudy'\n",
    "    ]\n",
    "    clear = [\n",
    "        'Partly clear', 'Sunny and clear', 'Sun & clouds', 'Clear and Sunny',\n",
    "        'Sunny and cold', 'Sunny Skies', 'Clear and Cool', 'Clear and sunny',\n",
    "        'Sunny, highs to upper 80s', 'Mostly Sunny Skies', 'Cold',\n",
    "        'Clear and warm', 'Sunny and warm', 'Clear and cold', 'Mostly sunny',\n",
    "        'T: 51; H: 55; W: NW 10 mph', 'Clear Skies', 'Clear skies', 'Partly sunny',\n",
    "        'Fair', 'Partly Sunny', 'Mostly Sunny', 'Clear', 'Sunny'\n",
    "    ]\n",
    "    snow  = ['Heavy lake effect snow', 'Snow']\n",
    "    indoor  = ['N/A Indoor', 'Indoors', 'Indoor', 'N/A (Indoors)', 'Controlled Climate']\n",
    "    \n",
    "    if weather in rain:\n",
    "        return 'rain'\n",
    "    elif weather in overcast:\n",
    "        return 'overcast'\n",
    "    elif weather in clear:\n",
    "        return 'clear'\n",
    "    elif weather in snow:\n",
    "        return 'snow'\n",
    "    elif weather in indoor:\n",
    "        return 'indoor'\n",
    "    \n",
    "    return 'unspecified'\n",
    "\n",
    "train['GameWeather'] = train['GameWeather'].apply(group_game_weather)\n"
   ]
  },
  {
   "cell_type": "code",
   "execution_count": 17,
   "metadata": {},
   "outputs": [],
   "source": [
    "#Stadiums\n",
    "def group_stadium_types(stadium):\n",
    "    outdoor  = [\n",
    "        'Outdoor', 'Outdoors', 'Cloudy', 'Heinz Field', \n",
    "        'Outdor', 'Ourdoor', 'Outside', 'Outddors', \n",
    "        'Outdoor Retr Roof-Open', 'Oudoor', 'Bowl'\n",
    "    ]\n",
    "    indoor_closed = [\n",
    "        'Indoors', 'Indoor', 'Indoor, Roof Closed', 'Indoor, Roof Closed', \n",
    "        'Retractable Roof', 'Retr. Roof-Closed', 'Retr. Roof - Closed', 'Retr. Roof Closed',\n",
    "    ]\n",
    "    indoor_open   = ['Indoor, Open Roof', 'Open', 'Retr. Roof-Open', 'Retr. Roof - Open']\n",
    "    dome_closed   = ['Dome', 'Domed, closed', 'Closed Dome', 'Domed', 'Dome, closed']\n",
    "    dome_open     = ['Domed, Open', 'Domed, open']\n",
    "    \n",
    "    if stadium in outdoor:\n",
    "        return 'outdoor'\n",
    "    elif stadium in indoor_closed:\n",
    "        return 'indoor closed'\n",
    "    elif stadium in indoor_open:\n",
    "        return 'indoor open'\n",
    "    elif stadium in dome_closed:\n",
    "        return 'dome closed'\n",
    "    elif stadium in dome_open:\n",
    "        return 'dome open'\n",
    "    else:\n",
    "        return 'unknown'\n",
    "    \n",
    "train['StadiumType'] = train['StadiumType'].apply(group_stadium_types)"
   ]
  },
  {
   "cell_type": "code",
   "execution_count": 18,
   "metadata": {},
   "outputs": [],
   "source": [
    "#BirthDate, GameHour and Time\n",
    "import datetime\n",
    "train['TimeHandoff'] = train['TimeHandoff'].apply(lambda x: datetime.datetime.strptime(x, \"%Y-%m-%dT%H:%M:%S.%fZ\"))\n",
    "train['TimeSnap'] = train['TimeSnap'].apply(lambda x: datetime.datetime.strptime(x, \"%Y-%m-%dT%H:%M:%S.%fZ\"))\n",
    "train['TimeDelta'] = train.apply(lambda row: (row['TimeHandoff'] - row['TimeSnap']).total_seconds(), axis=1)\n",
    "\n",
    "#train['BirthYear']=train['PlayerBirthDate'].apply(lambda x : int(x.split('/')[2]))\n",
    "def strtoseconds(txt):\n",
    "    txt = txt.split(':')\n",
    "    ans = int(txt[0])*60 + int(txt[1]) + int(txt[2])/60\n",
    "    return ans\n",
    "train['GameClock']=train['GameClock'].apply(strtoseconds)\n"
   ]
  },
  {
   "cell_type": "code",
   "execution_count": 19,
   "metadata": {},
   "outputs": [],
   "source": [
    "train['PlayerBirthDate'] = train['PlayerBirthDate'].apply(lambda x: datetime.datetime.strptime(x, \"%m/%d/%Y\"))\n",
    "\n",
    "seconds_in_year = 60*60*24*365.25\n",
    "train['PlayerAge'] = train.apply(lambda row: (row['TimeHandoff']-row['PlayerBirthDate']).total_seconds()/seconds_in_year, axis=1)\n",
    "train = train.drop(['TimeHandoff', 'TimeSnap', 'PlayerBirthDate'], axis=1)"
   ]
  },
  {
   "cell_type": "code",
   "execution_count": 21,
   "metadata": {},
   "outputs": [],
   "source": [
    "#Height\n",
    "#train['PlayerHeight'] = z\n",
    "train['PlayerHeight'].value_counts()\n",
    "train['PlayerHeight']=train['PlayerHeight'].apply(lambda x : 30*int(x.split('-')[0]) + 3*int(x.split('-')[1]))"
   ]
  },
  {
   "cell_type": "code",
   "execution_count": 22,
   "metadata": {},
   "outputs": [],
   "source": [
    "#DefensePersonnel\n",
    "def process_defense(x):\n",
    "    num=[]\n",
    "    num=x.split(',')\n",
    "    dl=int(num[0].split(' ')[0])\n",
    "    lb=int(num[1].split(' ')[1])\n",
    "    db=int(num[2].split(' ')[1])\n",
    "    if(len(num)>3):\n",
    "         ol=int(num[3].split(' ')[1])\n",
    "    else:\n",
    "         ol=0\n",
    "    return [dl,lb,db,ol]\n",
    "\n",
    "values=train['DefensePersonnel'].apply(process_defense)\n",
    "u,v,x,y=list(map(list,zip(*values)))\n",
    "\n",
    "\n"
   ]
  },
  {
   "cell_type": "code",
   "execution_count": 23,
   "metadata": {},
   "outputs": [],
   "source": [
    "train['DL']=u\n",
    "train['LB']=v\n",
    "train['BL']=x\n",
    "train['OL']=y\n",
    "train.drop(['DefensePersonnel'],axis=1,inplace=True)"
   ]
  },
  {
   "cell_type": "code",
   "execution_count": 24,
   "metadata": {},
   "outputs": [],
   "source": [
    "train['PlayDirection'] = train['PlayDirection'].apply(lambda x: x.strip() == 'right')\n",
    "\n",
    "train['Team'] = train['Team'].apply(lambda x: x.strip()=='home')"
   ]
  },
  {
   "cell_type": "code",
   "execution_count": 25,
   "metadata": {},
   "outputs": [],
   "source": [
    "train['X'] = train.apply(lambda row: row['X'] if row['PlayDirection'] else 120-row['X'], axis=1)\n",
    "#from https://www.kaggle.com/scirpus/hybrid-gp-and-nn\n",
    "def new_orientation(angle, play_direction):\n",
    "    if play_direction == 0:\n",
    "        new_angle = 360.0 - angle\n",
    "        if new_angle == 360.0:\n",
    "            new_angle = 0.0\n",
    "        return new_angle\n",
    "    else:\n",
    "        return angle\n",
    "    \n",
    "train['Orientation'] = train.apply(lambda row: new_orientation(row['Orientation'], row['PlayDirection']), axis=1)\n",
    "train['Dir'] = train.apply(lambda row: new_orientation(row['Dir'], row['PlayDirection']), axis=1)"
   ]
  },
  {
   "cell_type": "code",
   "execution_count": null,
   "metadata": {},
   "outputs": [],
   "source": []
  },
  {
   "cell_type": "code",
   "execution_count": 26,
   "metadata": {},
   "outputs": [],
   "source": [
    "#Remove irrelevant features\n",
    "train = train.drop(['GameId','PlayId','NflId','NflIdRusher'], axis=1)\n"
   ]
  },
  {
   "cell_type": "code",
   "execution_count": 27,
   "metadata": {},
   "outputs": [],
   "source": [
    "#Additional features\n",
    "train['PlayerBMI'] = (0.5*train['PlayerWeight']/(0.01*train['PlayerHeight'])**2)"
   ]
  },
  {
   "cell_type": "code",
   "execution_count": 28,
   "metadata": {},
   "outputs": [],
   "source": [
    "def get_cats(train):\n",
    "    cat_features = []\n",
    "    for col in train.columns:\n",
    "        if train[col].dtype =='object':\n",
    "            cat_features.append(col)\n",
    "    #print(cat_features)\n",
    "    return cat_features"
   ]
  },
  {
   "cell_type": "code",
   "execution_count": 29,
   "metadata": {},
   "outputs": [
    {
     "data": {
      "text/plain": [
       "none          150634\n",
       "south west     77110\n",
       "north west     68288\n",
       "north east     64306\n",
       "south east     52998\n",
       "south          32978\n",
       "north          25080\n",
       "west           24860\n",
       "east           13508\n",
       "Name: WindDirection, dtype: int64"
      ]
     },
     "execution_count": 29,
     "metadata": {},
     "output_type": "execute_result"
    }
   ],
   "source": [
    "train['WindDirection'].value_counts()"
   ]
  },
  {
   "cell_type": "code",
   "execution_count": 30,
   "metadata": {},
   "outputs": [],
   "source": [
    "# encoding categorical values\n",
    "\n",
    "from sklearn.preprocessing import LabelEncoder\n",
    "\n",
    "cats = get_cats(train)\n",
    "\n",
    "lbdic={}\n",
    "for c in cats:\n",
    "    lb=LabelEncoder()\n",
    "    lb=lb.fit(train[c].values)\n",
    "    lbdic[c]=lb\n",
    "    train[c]=lb.transform(train[c].values)"
   ]
  },
  {
   "cell_type": "code",
   "execution_count": 31,
   "metadata": {},
   "outputs": [
    {
     "data": {
      "text/html": [
       "<div>\n",
       "<style scoped>\n",
       "    .dataframe tbody tr th:only-of-type {\n",
       "        vertical-align: middle;\n",
       "    }\n",
       "\n",
       "    .dataframe tbody tr th {\n",
       "        vertical-align: top;\n",
       "    }\n",
       "\n",
       "    .dataframe thead th {\n",
       "        text-align: right;\n",
       "    }\n",
       "</style>\n",
       "<table border=\"1\" class=\"dataframe\">\n",
       "  <thead>\n",
       "    <tr style=\"text-align: right;\">\n",
       "      <th></th>\n",
       "      <th>Team</th>\n",
       "      <th>X</th>\n",
       "      <th>Y</th>\n",
       "      <th>S</th>\n",
       "      <th>A</th>\n",
       "      <th>Dis</th>\n",
       "      <th>Orientation</th>\n",
       "      <th>Dir</th>\n",
       "      <th>DisplayName</th>\n",
       "      <th>JerseyNumber</th>\n",
       "      <th>...</th>\n",
       "      <th>Humidity</th>\n",
       "      <th>WindSpeed</th>\n",
       "      <th>WindDirection</th>\n",
       "      <th>TimeDelta</th>\n",
       "      <th>PlayerAge</th>\n",
       "      <th>DL</th>\n",
       "      <th>LB</th>\n",
       "      <th>BL</th>\n",
       "      <th>OL</th>\n",
       "      <th>PlayerBMI</th>\n",
       "    </tr>\n",
       "  </thead>\n",
       "  <tbody>\n",
       "    <tr>\n",
       "      <th>0</th>\n",
       "      <td>False</td>\n",
       "      <td>46.09</td>\n",
       "      <td>34.84</td>\n",
       "      <td>1.69</td>\n",
       "      <td>1.13</td>\n",
       "      <td>0.40</td>\n",
       "      <td>278.01</td>\n",
       "      <td>182.82</td>\n",
       "      <td>775</td>\n",
       "      <td>29</td>\n",
       "      <td>...</td>\n",
       "      <td>77.0</td>\n",
       "      <td>8.0</td>\n",
       "      <td>7</td>\n",
       "      <td>1.0</td>\n",
       "      <td>28.692760</td>\n",
       "      <td>2</td>\n",
       "      <td>3</td>\n",
       "      <td>6</td>\n",
       "      <td>0</td>\n",
       "      <td>32.716049</td>\n",
       "    </tr>\n",
       "    <tr>\n",
       "      <th>1</th>\n",
       "      <td>False</td>\n",
       "      <td>45.33</td>\n",
       "      <td>32.64</td>\n",
       "      <td>0.42</td>\n",
       "      <td>1.35</td>\n",
       "      <td>0.01</td>\n",
       "      <td>332.39</td>\n",
       "      <td>161.30</td>\n",
       "      <td>71</td>\n",
       "      <td>97</td>\n",
       "      <td>...</td>\n",
       "      <td>77.0</td>\n",
       "      <td>8.0</td>\n",
       "      <td>7</td>\n",
       "      <td>1.0</td>\n",
       "      <td>28.457305</td>\n",
       "      <td>2</td>\n",
       "      <td>3</td>\n",
       "      <td>6</td>\n",
       "      <td>0</td>\n",
       "      <td>40.312421</td>\n",
       "    </tr>\n",
       "    <tr>\n",
       "      <th>2</th>\n",
       "      <td>False</td>\n",
       "      <td>46.00</td>\n",
       "      <td>33.20</td>\n",
       "      <td>1.22</td>\n",
       "      <td>0.59</td>\n",
       "      <td>0.31</td>\n",
       "      <td>356.99</td>\n",
       "      <td>157.27</td>\n",
       "      <td>1228</td>\n",
       "      <td>50</td>\n",
       "      <td>...</td>\n",
       "      <td>77.0</td>\n",
       "      <td>8.0</td>\n",
       "      <td>7</td>\n",
       "      <td>1.0</td>\n",
       "      <td>28.629790</td>\n",
       "      <td>2</td>\n",
       "      <td>3</td>\n",
       "      <td>6</td>\n",
       "      <td>0</td>\n",
       "      <td>37.792895</td>\n",
       "    </tr>\n",
       "    <tr>\n",
       "      <th>3</th>\n",
       "      <td>False</td>\n",
       "      <td>48.54</td>\n",
       "      <td>27.70</td>\n",
       "      <td>0.42</td>\n",
       "      <td>0.54</td>\n",
       "      <td>0.02</td>\n",
       "      <td>0.23</td>\n",
       "      <td>254.36</td>\n",
       "      <td>664</td>\n",
       "      <td>56</td>\n",
       "      <td>...</td>\n",
       "      <td>77.0</td>\n",
       "      <td>8.0</td>\n",
       "      <td>7</td>\n",
       "      <td>1.0</td>\n",
       "      <td>34.795430</td>\n",
       "      <td>2</td>\n",
       "      <td>3</td>\n",
       "      <td>6</td>\n",
       "      <td>0</td>\n",
       "      <td>34.293553</td>\n",
       "    </tr>\n",
       "    <tr>\n",
       "      <th>4</th>\n",
       "      <td>False</td>\n",
       "      <td>50.68</td>\n",
       "      <td>35.42</td>\n",
       "      <td>1.82</td>\n",
       "      <td>2.43</td>\n",
       "      <td>0.16</td>\n",
       "      <td>347.37</td>\n",
       "      <td>195.69</td>\n",
       "      <td>1814</td>\n",
       "      <td>38</td>\n",
       "      <td>...</td>\n",
       "      <td>77.0</td>\n",
       "      <td>8.0</td>\n",
       "      <td>7</td>\n",
       "      <td>1.0</td>\n",
       "      <td>30.061685</td>\n",
       "      <td>2</td>\n",
       "      <td>3</td>\n",
       "      <td>6</td>\n",
       "      <td>0</td>\n",
       "      <td>31.790123</td>\n",
       "    </tr>\n",
       "  </tbody>\n",
       "</table>\n",
       "<p>5 rows × 47 columns</p>\n",
       "</div>"
      ],
      "text/plain": [
       "    Team      X      Y     S     A   Dis  Orientation     Dir  DisplayName  \\\n",
       "0  False  46.09  34.84  1.69  1.13  0.40       278.01  182.82          775   \n",
       "1  False  45.33  32.64  0.42  1.35  0.01       332.39  161.30           71   \n",
       "2  False  46.00  33.20  1.22  0.59  0.31       356.99  157.27         1228   \n",
       "3  False  48.54  27.70  0.42  0.54  0.02         0.23  254.36          664   \n",
       "4  False  50.68  35.42  1.82  2.43  0.16       347.37  195.69         1814   \n",
       "\n",
       "   JerseyNumber  ...  Humidity  WindSpeed  WindDirection  TimeDelta  \\\n",
       "0            29  ...      77.0        8.0              7        1.0   \n",
       "1            97  ...      77.0        8.0              7        1.0   \n",
       "2            50  ...      77.0        8.0              7        1.0   \n",
       "3            56  ...      77.0        8.0              7        1.0   \n",
       "4            38  ...      77.0        8.0              7        1.0   \n",
       "\n",
       "   PlayerAge  DL  LB  BL  OL  PlayerBMI  \n",
       "0  28.692760   2   3   6   0  32.716049  \n",
       "1  28.457305   2   3   6   0  40.312421  \n",
       "2  28.629790   2   3   6   0  37.792895  \n",
       "3  34.795430   2   3   6   0  34.293553  \n",
       "4  30.061685   2   3   6   0  31.790123  \n",
       "\n",
       "[5 rows x 47 columns]"
      ]
     },
     "execution_count": 31,
     "metadata": {},
     "output_type": "execute_result"
    }
   ],
   "source": [
    "train.head()"
   ]
  },
  {
   "cell_type": "code",
   "execution_count": 462,
   "metadata": {},
   "outputs": [],
   "source": [
    "#TODO: Refactor all pipeline steps as function so Test can be processed the same way.\n",
    "\n",
    "def pipeline(df, train=False):\n",
    "    #print(df.head())\n",
    "    df['WindDirection'] = df['WindDirection'].apply(clean_wind_direction)\n",
    "    df['WindSpeed']=df['WindSpeed'].apply(windspeed)\n",
    "\n",
    "    df['WindSpeed'].fillna(df['WindSpeed'].median(),inplace=True)\n",
    "    \n",
    "    df['Humidity'].fillna(method='ffill', inplace=True)\n",
    "    df['Temperature'].fillna(method='ffill', inplace=True)\n",
    "    df.fillna(na_map, inplace=True)\n",
    "    df['FieldPosition'] = np.where(df['YardLine'] == 50, df['PossessionTeam'], df['FieldPosition'])\n",
    "    df['GameWeather'] = df['GameWeather'].apply(group_game_weather)\n",
    "    df['StadiumType'] = df['StadiumType'].apply(group_stadium_types)\n",
    "    \n",
    "    \n",
    "    \n",
    "    df['TimeHandoff'] = df['TimeHandoff'].apply(lambda x: datetime.datetime.strptime(x, \"%Y-%m-%dT%H:%M:%S.%fZ\"))\n",
    "    df['TimeSnap'] = df['TimeSnap'].apply(lambda x: datetime.datetime.strptime(x, \"%Y-%m-%dT%H:%M:%S.%fZ\"))\n",
    "    df['TimeDelta'] = df.apply(lambda row: (row['TimeHandoff'] - row['TimeSnap']).total_seconds(), axis=1)\n",
    "    df['GameClock']=df['GameClock'].apply(strtoseconds)\n",
    "    df['PlayerBirthDate'] = df['PlayerBirthDate'].apply(lambda x: datetime.datetime.strptime(x, \"%m/%d/%Y\"))\n",
    "\n",
    "    seconds_in_year = 60*60*24*365.25\n",
    "    df['PlayerAge'] = df.apply(lambda row: (row['TimeHandoff']-row['PlayerBirthDate']).total_seconds()/seconds_in_year, axis=1)\n",
    "    df = df.drop(['TimeHandoff', 'TimeSnap', 'PlayerBirthDate'], axis=1)\n",
    "    df['PlayerHeight']=df['PlayerHeight'].apply(lambda x : 30*int(x.split('-')[0]) + 3*int(x.split('-')[1]))\n",
    "\n",
    "    values=df['DefensePersonnel'].apply(process_defense)\n",
    "    u,v,x,y=list(map(list,zip(*values)))\n",
    "    df['DL']=u\n",
    "    df['LB']=v\n",
    "    df['BL']=x\n",
    "    df['OL']=y\n",
    "    df.drop(['DefensePersonnel'],axis=1,inplace=True)\n",
    "\n",
    "    df['PlayDirection'] = df['PlayDirection'].apply(lambda x: x.strip() == 'right')\n",
    "\n",
    "    df['Team'] = df['Team'].apply(lambda x: x.strip()=='home')\n",
    "\n",
    "    df['X'] = df.apply(lambda row: row['X'] if row['PlayDirection'] else 120-row['X'], axis=1)\n",
    "\n",
    "    df['Orientation'] = df.apply(lambda row: new_orientation(row['Orientation'], row['PlayDirection']), axis=1)\n",
    "    df['Dir'] = df.apply(lambda row: new_orientation(row['Dir'], row['PlayDirection']), axis=1)\n",
    "\n",
    "    #Remove irrelevant features\n",
    "    df = df.drop(['GameId','PlayId','NflId','NflIdRusher'], axis=1)\n",
    "    #Additional features\n",
    "    df['PlayerBMI'] = (0.5*df['PlayerWeight']/(0.01*df['PlayerHeight'])**2)\n",
    "\n",
    "    #Encode categorical features\n",
    "    cats = get_cats(df)\n",
    "\n",
    "    lbdic={}\n",
    "    for c in cats:\n",
    "        lb=LabelEncoder()\n",
    "        lb=lb.fit(df[c].values)\n",
    "        lbdic[c]=lb\n",
    "        df[c]=lb.transform(df[c].values)\n",
    "        \n",
    "    #print(df.head)\n",
    "    if(train):\n",
    "        features = df.drop(['Yards'], axis=1).copy()\n",
    "        label = df['Yards'].copy()\n",
    "        return features, label\n",
    "    else:\n",
    "        return features\n"
   ]
  },
  {
   "cell_type": "code",
   "execution_count": 463,
   "metadata": {},
   "outputs": [],
   "source": [
    "data = pd.read_csv('train.csv', low_memory = False)\n",
    "features, label = pipeline(data, train=True)"
   ]
  },
  {
   "cell_type": "code",
   "execution_count": 464,
   "metadata": {},
   "outputs": [
    {
     "data": {
      "text/plain": [
       "PlayerBMI                 0\n",
       "YardLine                  0\n",
       "OffenseFormation          0\n",
       "VisitorScoreBeforePlay    0\n",
       "HomeScoreBeforePlay       0\n",
       "FieldPosition             0\n",
       "Distance                  0\n",
       "Down                      0\n",
       "PossessionTeam            0\n",
       "GameClock                 0\n",
       "Quarter                   0\n",
       "Season                    0\n",
       "DefendersInTheBox         0\n",
       "JerseyNumber              0\n",
       "DisplayName               0\n",
       "Dir                       0\n",
       "Orientation               0\n",
       "Dis                       0\n",
       "A                         0\n",
       "S                         0\n",
       "Y                         0\n",
       "X                         0\n",
       "OffensePersonnel          0\n",
       "PlayDirection             0\n",
       "OL                        0\n",
       "GameWeather               0\n",
       "BL                        0\n",
       "LB                        0\n",
       "DL                        0\n",
       "PlayerAge                 0\n",
       "TimeDelta                 0\n",
       "WindDirection             0\n",
       "WindSpeed                 0\n",
       "Humidity                  0\n",
       "Temperature               0\n",
       "Turf                      0\n",
       "PlayerHeight              0\n",
       "StadiumType               0\n",
       "Location                  0\n",
       "Stadium                   0\n",
       "Week                      0\n",
       "VisitorTeamAbbr           0\n",
       "HomeTeamAbbr              0\n",
       "Position                  0\n",
       "PlayerCollegeName         0\n",
       "PlayerWeight              0\n",
       "Team                      0\n",
       "dtype: int64"
      ]
     },
     "execution_count": 464,
     "metadata": {},
     "output_type": "execute_result"
    }
   ],
   "source": [
    "features.isna().sum().sort_values(ascending=False)"
   ]
  },
  {
   "cell_type": "code",
   "execution_count": 465,
   "metadata": {},
   "outputs": [],
   "source": [
    "#turns yardage into categorical format to match softmax output. We will aggregate the NN PDF into a CDF afterwards.\n",
    "\n",
    "def transform_label(label):\n",
    "    return tf.keras.utils.to_categorical(label, 199)\n",
    "\n",
    "#Turns yardage gained into cumulative function: 000..111111. Flips to 1 at the index of the \"yards gained\"\n",
    "#do not use \n",
    "def IGNOREtransform_label(y):\n",
    "    Y_train=np.zeros((y.shape[0],199))\n",
    "    for i,yard in enumerate(y):\n",
    "        Y_train[i, yard+99:] = np.ones(shape=(1, 100-yard))\n",
    "    \n",
    "    return Y_train\n",
    "\n",
    "Y = transform_label(label)\n",
    "\n",
    "from sklearn.preprocessing import StandardScaler\n",
    "\n",
    "#optional scaling of X\n",
    "#scaler = StandardScaler()\n",
    "#X = scaler.fit_transform(features)"
   ]
  },
  {
   "cell_type": "code",
   "execution_count": 466,
   "metadata": {},
   "outputs": [],
   "source": [
    "trans_label = transform_label(label)"
   ]
  },
  {
   "cell_type": "code",
   "execution_count": 467,
   "metadata": {},
   "outputs": [
    {
     "name": "stdout",
     "output_type": "stream",
     "text": [
      "    Team      X      Y     S     A   Dis  Orientation     Dir  DisplayName  \\\n",
      "0  False  46.09  34.84  1.69  1.13  0.40       278.01  182.82          775   \n",
      "1  False  45.33  32.64  0.42  1.35  0.01       332.39  161.30           71   \n",
      "2  False  46.00  33.20  1.22  0.59  0.31       356.99  157.27         1228   \n",
      "3  False  48.54  27.70  0.42  0.54  0.02         0.23  254.36          664   \n",
      "4  False  50.68  35.42  1.82  2.43  0.16       347.37  195.69         1814   \n",
      "\n",
      "   JerseyNumber  ...  Humidity  WindSpeed  WindDirection  TimeDelta  \\\n",
      "0            29  ...      77.0        8.0              7        1.0   \n",
      "1            97  ...      77.0        8.0              7        1.0   \n",
      "2            50  ...      77.0        8.0              7        1.0   \n",
      "3            56  ...      77.0        8.0              7        1.0   \n",
      "4            38  ...      77.0        8.0              7        1.0   \n",
      "\n",
      "   PlayerAge  DL  LB  BL  OL  PlayerBMI  \n",
      "0  28.692760   2   3   6   0  32.716049  \n",
      "1  28.457305   2   3   6   0  40.312421  \n",
      "2  28.629790   2   3   6   0  37.792895  \n",
      "3  34.795430   2   3   6   0  34.293553  \n",
      "4  30.061685   2   3   6   0  31.790123  \n",
      "\n",
      "[5 rows x 47 columns]\n",
      "(509762, 47)\n",
      "(509762, 199)\n",
      "[[0. 0. 0. ... 0. 0. 0.]\n",
      " [0. 0. 0. ... 0. 0. 0.]\n",
      " [0. 0. 0. ... 0. 0. 0.]\n",
      " ...\n",
      " [0. 0. 0. ... 0. 0. 0.]\n",
      " [0. 0. 0. ... 0. 0. 0.]\n",
      " [0. 0. 0. ... 0. 0. 0.]]\n"
     ]
    }
   ],
   "source": [
    "#X data, shape\n",
    "print(features.head())\n",
    "print(features.shape)\n",
    "print(trans_label.shape)\n",
    "print(trans_label)\n"
   ]
  },
  {
   "cell_type": "code",
   "execution_count": 468,
   "metadata": {},
   "outputs": [
    {
     "name": "stderr",
     "output_type": "stream",
     "text": [
      "/home/floriansuri/.local/lib/python3.6/site-packages/sklearn/utils/validation.py:595: DataConversionWarning: Data with input dtype object was converted to float64 by MinMaxScaler.\n",
      "  warnings.warn(msg, DataConversionWarning)\n"
     ]
    },
    {
     "name": "stdout",
     "output_type": "stream",
     "text": [
      "[[0.         0.36951282 0.60421245 ... 0.71428571 0.         0.28888889]\n",
      " [0.         0.36297125 0.56391941 ... 0.71428571 0.         0.56235828]\n",
      " [0.         0.36873816 0.57417582 ... 0.71428571 0.         0.47165533]\n",
      " ...\n",
      " [1.         0.72387674 0.46153846 ... 0.42857143 0.         0.63537147]\n",
      " [1.         0.70072302 0.41245421 ... 0.42857143 0.         0.58034894]\n",
      " [1.         0.66827337 0.44871795 ... 0.42857143 0.         0.30433874]]\n",
      "(47,)\n",
      "         0         1         2         3         4         5         6   \\\n",
      "0       0.0  0.369513  0.604212  0.179596  0.076818  0.287770  0.772250   \n",
      "1       0.0  0.362971  0.563919  0.044633  0.091774  0.007194  0.923306   \n",
      "2       0.0  0.368738  0.574176  0.129649  0.040109  0.223022  0.991639   \n",
      "3       0.0  0.390601  0.473443  0.044633  0.036710  0.014388  0.000639   \n",
      "4       0.0  0.409020  0.614835  0.193411  0.165194  0.115108  0.964917   \n",
      "...     ...       ...       ...       ...       ...       ...       ...   \n",
      "509757  1.0  0.719659  0.409341  0.227418  0.144120  0.158273  0.123750   \n",
      "509758  1.0  0.719573  0.463919  0.123273  0.044867  0.079137  0.148972   \n",
      "509759  1.0  0.723877  0.461538  0.275239  0.080218  0.187050  0.011000   \n",
      "509760  1.0  0.700723  0.412454  0.463337  0.121686  0.338129  0.411333   \n",
      "509761  1.0  0.668273  0.448718  0.517535  0.278722  0.323741  0.376222   \n",
      "\n",
      "              7         8         9   ...    37        38     39        40  \\\n",
      "0       0.507833  0.347690  0.285714  ...  0.77  0.333333  0.875  0.142857   \n",
      "1       0.448056  0.031853  0.979592  ...  0.77  0.333333  0.875  0.142857   \n",
      "2       0.436861  0.550920  0.500000  ...  0.77  0.333333  0.875  0.142857   \n",
      "3       0.706556  0.297891  0.561224  ...  0.77  0.333333  0.875  0.142857   \n",
      "4       0.543583  0.813818  0.377551  ...  0.77  0.333333  0.875  0.142857   \n",
      "...          ...       ...       ...  ...   ...       ...    ...       ...   \n",
      "509757  0.042528  0.742485  0.816327  ...  0.76  0.208333  0.750  0.285714   \n",
      "509758  0.118889  0.382234  0.653061  ...  0.76  0.208333  0.750  0.285714   \n",
      "509759  0.058667  0.378197  0.744898  ...  0.76  0.208333  0.750  0.285714   \n",
      "509760  0.509278  0.357111  0.775510  ...  0.76  0.208333  0.750  0.285714   \n",
      "509761  0.328444  0.173172  0.316327  ...  0.76  0.208333  0.750  0.285714   \n",
      "\n",
      "              41        42   43        44   45        46  \n",
      "0       0.395924  0.285714  0.5  0.714286  0.0  0.288889  \n",
      "1       0.384739  0.285714  0.5  0.714286  0.0  0.562358  \n",
      "2       0.392932  0.285714  0.5  0.714286  0.0  0.471655  \n",
      "3       0.685813  0.285714  0.5  0.714286  0.0  0.345679  \n",
      "4       0.460950  0.285714  0.5  0.714286  0.0  0.255556  \n",
      "...          ...       ...  ...       ...  ...       ...  \n",
      "509757  0.259496  0.571429  0.5  0.428571  0.0  0.309458  \n",
      "509758  0.200582  0.571429  0.5  0.428571  0.0  0.649573  \n",
      "509759  0.289408  0.571429  0.5  0.428571  0.0  0.635371  \n",
      "509760  0.144789  0.571429  0.5  0.428571  0.0  0.580349  \n",
      "509761  0.186796  0.571429  0.5  0.428571  0.0  0.304339  \n",
      "\n",
      "[509762 rows x 47 columns]\n"
     ]
    }
   ],
   "source": [
    "from sklearn import preprocessing\n",
    "\n",
    "x = features.values #returns a numpy array\n",
    "min_max_scaler = preprocessing.MinMaxScaler()\n",
    "x_scaled = min_max_scaler.fit_transform(x)\n",
    "print(x_scaled)\n",
    "print(x_scaled[0].shape)\n",
    "X = pd.DataFrame(x_scaled)\n",
    "print(X)"
   ]
  },
  {
   "cell_type": "code",
   "execution_count": 469,
   "metadata": {},
   "outputs": [
    {
     "name": "stdout",
     "output_type": "stream",
     "text": [
      "[     0      1      2 ... 509759 509760 509761]\n",
      "[[0.         0.36951282 0.60421245 ... 0.71428571 0.         0.28888889]\n",
      " [0.         0.36297125 0.56391941 ... 0.71428571 0.         0.56235828]\n",
      " [0.         0.36873816 0.57417582 ... 0.71428571 0.         0.47165533]\n",
      " ...\n",
      " [1.         0.72387674 0.46153846 ... 0.42857143 0.         0.63537147]\n",
      " [1.         0.70072302 0.41245421 ... 0.42857143 0.         0.58034894]\n",
      " [1.         0.66827337 0.44871795 ... 0.42857143 0.         0.30433874]]\n"
     ]
    },
    {
     "name": "stderr",
     "output_type": "stream",
     "text": [
      "/home/floriansuri/anaconda2/envs/py36/lib/python3.6/site-packages/ipykernel_launcher.py:4: FutureWarning: Method .as_matrix will be removed in a future version. Use .values instead.\n",
      "  after removing the cwd from sys.path.\n"
     ]
    }
   ],
   "source": [
    "## Normalize value to [0, 1]\n",
    "print(features.index.values)\n",
    "X = X.iloc[X.index.values]\n",
    "X = X.as_matrix()\n",
    "print(X)"
   ]
  },
  {
   "cell_type": "code",
   "execution_count": 470,
   "metadata": {},
   "outputs": [
    {
     "data": {
      "text/plain": [
       "array([[0.        , 0.36951282, 0.60421245, ..., 0.71428571, 0.        ,\n",
       "        0.28888889],\n",
       "       [0.        , 0.36297125, 0.56391941, ..., 0.71428571, 0.        ,\n",
       "        0.56235828],\n",
       "       [0.        , 0.36873816, 0.57417582, ..., 0.71428571, 0.        ,\n",
       "        0.47165533],\n",
       "       ...,\n",
       "       [1.        , 0.72387674, 0.46153846, ..., 0.42857143, 0.        ,\n",
       "        0.63537147],\n",
       "       [1.        , 0.70072302, 0.41245421, ..., 0.42857143, 0.        ,\n",
       "        0.58034894],\n",
       "       [1.        , 0.66827337, 0.44871795, ..., 0.42857143, 0.        ,\n",
       "        0.30433874]])"
      ]
     },
     "execution_count": 470,
     "metadata": {},
     "output_type": "execute_result"
    }
   ],
   "source": [
    "X"
   ]
  },
  {
   "cell_type": "code",
   "execution_count": null,
   "metadata": {},
   "outputs": [],
   "source": [
    "#split into custom validation/test set - or can we use their test set as black box? "
   ]
  },
  {
   "cell_type": "code",
   "execution_count": 481,
   "metadata": {},
   "outputs": [],
   "source": [
    "# baseline model Copy from Hw2 - tune accordingly\n",
    "\n",
    "#redefine an optimizer that inherits from SGD or any optimizer but introduces synchronization\n",
    "def optim_SGD(lr = 0.001, mom=0.99):\n",
    "    #Declare Optimizer\n",
    "    optim = tf.keras.optimizers.SGD(learning_rate = lr, momentum = mom) #, clipnorm=1.)\n",
    "    return optim\n",
    "\n",
    "#set up layers for baseline model: remove convolutions and set dense layers... Softmax output with 199 dim\n",
    "def new_model(optim, d1= 32, d2 =32, d3 =32):\n",
    "\n",
    "    models = tf.keras.models\n",
    "    layers = tf.keras.layers\n",
    "    #Instantiate an empty model\n",
    "    model = models.Sequential()\n",
    "\n",
    "    \n",
    "    model.add(layers.Dense(d1, activation=\"relu\", input_shape=(47,))) #[features.shape[1]]))\n",
    "    model.add(layers.Flatten())\n",
    "    model.add(layers.Dense(d2, activation=\"relu\"))\n",
    "    #model.add(layers.Flatten())\n",
    "    model.add(layers.Dense(d3, activation=\"relu\"))\n",
    "\n",
    "    #Output Layer with softmax activation\n",
    "    #model.add(layers.Flatten())\n",
    "    model.add(layers.Dense(199, activation=\"softmax\"))\n",
    "    #model.add(layers.Flatten())\n",
    "    # Compile the model\n",
    "    model.compile(loss=keras.losses.categorical_crossentropy, optimizer=optim, metrics=[\"accuracy\"])\n",
    "\n",
    "    print(model.summary())\n",
    "\n",
    "    return model"
   ]
  },
  {
   "cell_type": "code",
   "execution_count": 482,
   "metadata": {},
   "outputs": [],
   "source": [
    "optim = optim_SGD(lr = 0.01, mom=0)\n",
    "\n"
   ]
  },
  {
   "cell_type": "code",
   "execution_count": 384,
   "metadata": {},
   "outputs": [],
   "source": [
    "from __future__ import absolute_import\n",
    "from __future__ import division\n",
    "from __future__ import print_function\n",
    "\n",
    "import six\n",
    "import copy\n",
    "import numpy as np\n",
    "from six.moves import zip\n",
    "\n",
    "import tensorflow.keras.backend as K\n",
    "\n",
    "class SGD(tf.keras.optimizers.SGD):\n",
    "\n",
    "    def __init__(self, learning_rate=0.01, momentum=0.,\n",
    "                 nesterov=False, **kwargs):\n",
    "        super(SGD, self).__init__(learning_rate, momentum, nesterov, **kwargs)\n",
    "\n",
    "    #interfaces.legacy_get_updates_support\n",
    "    #@K.symbolic\n",
    "    def get_updates(self, loss, params):\n",
    "        grads = self.get_gradients(loss, params)\n",
    "        self.updates = [K.update_add(self.iterations, 1)]\n",
    "\n",
    "        print(self)\n",
    "        lr = self.learning_rate\n",
    "        #if self.initial_decay > 0:\n",
    "        #    lr = lr * (1. / (1. + self.decay * K.cast(self.iterations,\n",
    "        #                                              K.dtype(self.decay))))\n",
    "        # momentum\n",
    "        shapes = [K.int_shape(p) for p in params]\n",
    "        moments = [K.zeros(shape, name='moment_' + str(i))\n",
    "                   for (i, shape) in enumerate(shapes)]\n",
    "        self.weights = [self.iterations] + moments\n",
    "        for p, g, m in zip(params, grads, moments):\n",
    "            v = self.momentum * m - lr * g  # velocity\n",
    "            self.updates.append(K.update(m, v))\n",
    "\n",
    "            if self.nesterov:\n",
    "                new_p = p + self.momentum * v - lr * g\n",
    "            else:\n",
    "                new_p = p + v\n",
    "\n",
    "            # Apply constraints.\n",
    "            if getattr(p, 'constraint', None) is not None:\n",
    "                new_p = p.constraint(new_p)\n",
    "\n",
    "            print(p)\n",
    "            self.updates.append(K.update(p, new_p))\n",
    "        return self.updates\n",
    "\n",
    "o = SGD(learning_rate=0.0)"
   ]
  },
  {
   "cell_type": "code",
   "execution_count": null,
   "metadata": {},
   "outputs": [],
   "source": []
  },
  {
   "cell_type": "code",
   "execution_count": 483,
   "metadata": {},
   "outputs": [
    {
     "name": "stdout",
     "output_type": "stream",
     "text": [
      "Model: \"sequential_86\"\n",
      "_________________________________________________________________\n",
      "Layer (type)                 Output Shape              Param #   \n",
      "=================================================================\n",
      "dense_322 (Dense)            (None, 32)                1536      \n",
      "_________________________________________________________________\n",
      "flatten_69 (Flatten)         (None, 32)                0         \n",
      "_________________________________________________________________\n",
      "dense_323 (Dense)            (None, 32)                1056      \n",
      "_________________________________________________________________\n",
      "dense_324 (Dense)            (None, 32)                1056      \n",
      "_________________________________________________________________\n",
      "dense_325 (Dense)            (None, 199)               6567      \n",
      "=================================================================\n",
      "Total params: 10,215\n",
      "Trainable params: 10,215\n",
      "Non-trainable params: 0\n",
      "_________________________________________________________________\n",
      "None\n"
     ]
    }
   ],
   "source": [
    "model = new_model(optim)"
   ]
  },
  {
   "cell_type": "code",
   "execution_count": 288,
   "metadata": {},
   "outputs": [
    {
     "ename": "AttributeError",
     "evalue": "'numpy.ndarray' object has no attribute 'iloc'",
     "output_type": "error",
     "traceback": [
      "\u001b[0;31m---------------------------------------------------------------------------\u001b[0m",
      "\u001b[0;31mAttributeError\u001b[0m                            Traceback (most recent call last)",
      "\u001b[0;32m<ipython-input-288-96d04da8d37e>\u001b[0m in \u001b[0;36m<module>\u001b[0;34m\u001b[0m\n\u001b[1;32m      1\u001b[0m \u001b[0;31m#print(model.get_weights())\u001b[0m\u001b[0;34m\u001b[0m\u001b[0;34m\u001b[0m\u001b[0;34m\u001b[0m\u001b[0m\n\u001b[0;32m----> 2\u001b[0;31m \u001b[0ma\u001b[0m \u001b[0;34m=\u001b[0m \u001b[0mmodel\u001b[0m\u001b[0;34m.\u001b[0m\u001b[0mpredict\u001b[0m\u001b[0;34m(\u001b[0m\u001b[0mX\u001b[0m\u001b[0;34m.\u001b[0m\u001b[0miloc\u001b[0m\u001b[0;34m[\u001b[0m\u001b[0;34m[\u001b[0m\u001b[0;36m2\u001b[0m\u001b[0;34m]\u001b[0m\u001b[0;34m]\u001b[0m\u001b[0;34m)\u001b[0m\u001b[0;34m.\u001b[0m\u001b[0mflatten\u001b[0m\u001b[0;34m(\u001b[0m\u001b[0;34m)\u001b[0m\u001b[0;34m\u001b[0m\u001b[0;34m\u001b[0m\u001b[0m\n\u001b[0m\u001b[1;32m      3\u001b[0m \u001b[0mb\u001b[0m \u001b[0;34m=\u001b[0m \u001b[0mtrans_label\u001b[0m\u001b[0;34m[\u001b[0m\u001b[0;36m2\u001b[0m\u001b[0;34m]\u001b[0m\u001b[0;34m\u001b[0m\u001b[0;34m\u001b[0m\u001b[0m\n\u001b[1;32m      4\u001b[0m \u001b[0;31m#print(a, b)\u001b[0m\u001b[0;34m\u001b[0m\u001b[0;34m\u001b[0m\u001b[0;34m\u001b[0m\u001b[0m\n\u001b[1;32m      5\u001b[0m \u001b[0;31m#print(a*b)\u001b[0m\u001b[0;34m\u001b[0m\u001b[0;34m\u001b[0m\u001b[0;34m\u001b[0m\u001b[0m\n",
      "\u001b[0;31mAttributeError\u001b[0m: 'numpy.ndarray' object has no attribute 'iloc'"
     ]
    }
   ],
   "source": [
    "#print(model.get_weights())\n",
    "a = model.predict(X.iloc[[2]]).flatten()\n",
    "b = trans_label[2]\n",
    "#print(a, b)\n",
    "#print(a*b)\n"
   ]
  },
  {
   "cell_type": "code",
   "execution_count": 484,
   "metadata": {},
   "outputs": [
    {
     "name": "stdout",
     "output_type": "stream",
     "text": [
      "(509762, 47) (509762, 199)\n",
      "[[0.         0.36951282 0.60421245 ... 0.71428571 0.         0.28888889]\n",
      " [0.         0.36297125 0.56391941 ... 0.71428571 0.         0.56235828]\n",
      " [0.         0.36873816 0.57417582 ... 0.71428571 0.         0.47165533]\n",
      " ...\n",
      " [1.         0.72387674 0.46153846 ... 0.42857143 0.         0.63537147]\n",
      " [1.         0.70072302 0.41245421 ... 0.42857143 0.         0.58034894]\n",
      " [1.         0.66827337 0.44871795 ... 0.42857143 0.         0.30433874]]\n"
     ]
    }
   ],
   "source": [
    "print(X.shape, trans_label.shape)\n",
    "#x_train = X.reshape(X.shape[0], 47)\n",
    "\n",
    "Z =  np.zeros((509762, 47))\n",
    "print(X)\n",
    "t_x = np.array(X)\n",
    "t_y = np.array(trans_label)"
   ]
  },
  {
   "cell_type": "code",
   "execution_count": null,
   "metadata": {},
   "outputs": [
    {
     "name": "stdout",
     "output_type": "stream",
     "text": [
      "Train on 458785 samples, validate on 50977 samples\n",
      "Epoch 1/10\n",
      "218816/458785 [=============>................] - ETA: 10s - loss: 2.9680 - acc: 0.1208"
     ]
    }
   ],
   "source": [
    "model.fit(x=t_x,y=t_y, epochs=10, validation_split = 0.1, verbose=1)"
   ]
  },
  {
   "cell_type": "code",
   "execution_count": null,
   "metadata": {},
   "outputs": [],
   "source": []
  },
  {
   "cell_type": "code",
   "execution_count": 405,
   "metadata": {},
   "outputs": [
    {
     "name": "stdout",
     "output_type": "stream",
     "text": [
      "Model: \"sequential_82\"\n",
      "_________________________________________________________________\n",
      "Layer (type)                 Output Shape              Param #   \n",
      "=================================================================\n",
      "dense_306 (Dense)            (None, 32)                1536      \n",
      "_________________________________________________________________\n",
      "flatten_65 (Flatten)         (None, 32)                0         \n",
      "_________________________________________________________________\n",
      "dense_307 (Dense)            (None, 32)                1056      \n",
      "_________________________________________________________________\n",
      "dense_308 (Dense)            (None, 32)                1056      \n",
      "_________________________________________________________________\n",
      "dense_309 (Dense)            (None, 199)               6567      \n",
      "=================================================================\n",
      "Total params: 10,215\n",
      "Trainable params: 10,215\n",
      "Non-trainable params: 0\n",
      "_________________________________________________________________\n",
      "None\n",
      "67108864 [nan]\n"
     ]
    }
   ],
   "source": [
    "import math\n",
    "\n",
    "'''\n",
    "for i in range (math.ceil(math.log(t_x.shape[0]) / math.log(2))):\n",
    "    x_t = np.array(t_x[0:(1 << i)])\n",
    "    y_t = np.array(t_y[0:(1 << i)])\n",
    "    print(x_t.shape)\n",
    "    hist = model.fit(x=x_t,y=y_t, epochs=1, validation_split = 0, verbose=0)\n",
    "    \n",
    "    print(i, hist.history.get(\"loss\"))\n",
    "''' \n",
    "\n",
    "model = new_model(optim)\n",
    "n = 1 << 13 + 1 << 12\n",
    "hist = model.fit(x=t_x[0:n],y=t_y[0:n], epochs=1, validation_split = 0, verbose=0)\n",
    "print(n, hist.history.get(\"loss\"))\n",
    "#,  batch_size=32, steps_per_epoch = 1000)"
   ]
  },
  {
   "cell_type": "code",
   "execution_count": 476,
   "metadata": {},
   "outputs": [
    {
     "name": "stdout",
     "output_type": "stream",
     "text": [
      "[array([[-0.25861433,  0.15810229, -0.27280802, ...,  0.15857446,\n",
      "        -0.2688716 ,  0.10894391],\n",
      "       [ 0.0694183 , -0.03973237, -0.12177023, ..., -0.16553348,\n",
      "        -0.05753512,  0.04791745],\n",
      "       [ 0.02021869, -0.23066446,  0.17310008, ...,  0.22438858,\n",
      "         0.08881959,  0.2685546 ],\n",
      "       ...,\n",
      "       [-0.08214569,  0.1138791 ,  0.2307817 , ...,  0.07269611,\n",
      "        -0.23558825, -0.16619784],\n",
      "       [-0.09838273, -0.1839545 ,  0.09741232, ..., -0.2623272 ,\n",
      "         0.27068678,  0.04588333],\n",
      "       [ 0.20320407,  0.259509  ,  0.07787147, ..., -0.1611301 ,\n",
      "         0.0406305 ,  0.22180235]], dtype=float32), array([-4.29120200e-06, -1.39994445e-05,  1.80825097e-07, -5.76440616e-05,\n",
      "        1.86014160e-09,  9.03424461e-06, -6.35120432e-06,  8.34754758e-07,\n",
      "       -4.13965827e-05,  1.17061054e-05,  4.06908657e-06,  3.21457492e-06,\n",
      "       -3.43648344e-06, -2.72177800e-07, -3.41822306e-05, -2.07748853e-05,\n",
      "       -6.59798479e-06,  1.28029633e-05, -3.50473711e-05, -1.99605984e-05,\n",
      "        1.40984470e-04,  2.94791766e-06,  4.81754978e-05, -2.36723099e-06,\n",
      "       -1.67491544e-05, -5.47943237e-05,  1.51807171e-06,  1.28619158e-05,\n",
      "        5.09628762e-06,  6.82085229e-05, -1.42693136e-06,  1.88511658e-05],\n",
      "      dtype=float32), array([[ 0.21107158,  0.2881094 , -0.10353242, ...,  0.23448947,\n",
      "         0.18614021,  0.17901485],\n",
      "       [-0.12844187,  0.06807792,  0.268079  , ..., -0.2614729 ,\n",
      "         0.06789687, -0.09074347],\n",
      "       [-0.23821664, -0.01280814,  0.130903  , ...,  0.28512874,\n",
      "        -0.08269832,  0.06489691],\n",
      "       ...,\n",
      "       [-0.08810772,  0.13032506, -0.02857339, ..., -0.28459933,\n",
      "        -0.14118673,  0.25656298],\n",
      "       [ 0.24817142,  0.22474387, -0.27602032, ..., -0.03829417,\n",
      "         0.02978179,  0.12881324],\n",
      "       [ 0.21565422, -0.21676406, -0.2733644 , ...,  0.07832566,\n",
      "         0.27994046,  0.22706905]], dtype=float32), array([ 6.27749341e-06, -2.12956766e-05,  1.90672235e-05,  8.32595179e-05,\n",
      "       -7.82989518e-05, -4.34182075e-05, -7.90610738e-06, -7.47962840e-05,\n",
      "        3.43368047e-05,  7.49132450e-05,  6.70644076e-05,  9.05295110e-06,\n",
      "        1.63467739e-05,  1.68655770e-05, -1.54276458e-05,  1.76539766e-06,\n",
      "        1.16332325e-04, -1.37972675e-05,  4.67368845e-05, -4.15009055e-07,\n",
      "        1.35492019e-05, -1.86701727e-04, -3.22791529e-05,  3.72735922e-05,\n",
      "        1.88406500e-06,  5.10492209e-05, -4.41602315e-05, -6.76151512e-06,\n",
      "        5.47905256e-06, -7.49476530e-05, -4.43643466e-06, -1.70793628e-05],\n",
      "      dtype=float32), array([[ 0.04639947,  0.17305523,  0.18607241, ...,  0.20131329,\n",
      "         0.01244575,  0.13249215],\n",
      "       [-0.16397113,  0.15077917,  0.07978019, ..., -0.19216743,\n",
      "        -0.18657532, -0.11778858],\n",
      "       [ 0.18562505,  0.06322023,  0.06909525, ...,  0.30010018,\n",
      "         0.21592143, -0.17905289],\n",
      "       ...,\n",
      "       [-0.13192429,  0.2008366 ,  0.1128327 , ...,  0.13628358,\n",
      "        -0.13989396, -0.20917195],\n",
      "       [-0.2659839 ,  0.03093933,  0.04606929, ...,  0.07474455,\n",
      "        -0.23187318,  0.08399722],\n",
      "       [ 0.16338807,  0.07762922, -0.11969335, ..., -0.23840293,\n",
      "         0.08315585,  0.27893656]], dtype=float32), array([ 2.1536336e-05, -2.2832456e-04,  0.0000000e+00,  3.1334392e-05,\n",
      "        8.5997948e-05, -2.4490651e-06,  2.8847185e-06, -1.2804438e-04,\n",
      "        1.7879827e-07, -1.4356799e-04, -4.0598818e-05, -1.5301893e-04,\n",
      "        4.1314388e-07,  2.1254111e-07,  0.0000000e+00,  1.3503140e-05,\n",
      "       -8.7523738e-05,  2.1723393e-04,  1.5651260e-08,  5.8082889e-05,\n",
      "        2.3422039e-05,  5.1117382e-08,  1.0686310e-04,  0.0000000e+00,\n",
      "       -3.5151013e-05, -1.3445539e-05, -5.1094568e-05, -3.5577781e-05,\n",
      "       -5.8632730e-05,  4.0366788e-07,  2.4989678e-04, -6.4223619e-05],\n",
      "      dtype=float32), array([[ 0.06735644,  0.07369947,  0.03486328, ..., -0.01567843,\n",
      "         0.07332416,  0.02241173],\n",
      "       [-0.1564119 ,  0.00909311, -0.1342719 , ..., -0.00514061,\n",
      "        -0.01705125,  0.14529987],\n",
      "       [ 0.04550341, -0.09698892, -0.13105386, ...,  0.05422784,\n",
      "         0.00891301, -0.03192531],\n",
      "       ...,\n",
      "       [ 0.0776578 ,  0.04916523, -0.01837326, ..., -0.10034943,\n",
      "        -0.07988785, -0.06821279],\n",
      "       [-0.12791228,  0.0202086 ,  0.11191488, ...,  0.15903753,\n",
      "        -0.00470069,  0.15783925],\n",
      "       [ 0.06360485,  0.11572658,  0.11176568, ...,  0.00036498,\n",
      "        -0.03083846, -0.07138406]], dtype=float32), array([ 6.2851532e-04,  8.2101044e-04,  9.3516009e-04,  8.2539674e-04,\n",
      "        7.8300718e-04,  4.5430672e-04,  3.1834622e-04,  2.6171503e-04,\n",
      "        1.5787307e-04,  1.5916278e-04,  6.2619081e-05,  8.7590393e-05,\n",
      "        3.8393780e-05,  2.2609256e-05,  3.1244206e-05,  3.2563098e-06,\n",
      "        8.8832476e-06, -2.5416343e-06, -1.4040073e-05, -1.1349940e-05,\n",
      "       -1.5819780e-05, -1.2439969e-05, -2.9986213e-05, -2.5946127e-05,\n",
      "       -2.4150064e-05, -1.9174677e-05, -2.4145849e-05, -2.4366922e-05,\n",
      "       -2.9367617e-05, -2.3757852e-05, -3.7480087e-05, -3.5133449e-05,\n",
      "       -2.7482081e-05, -3.2462976e-05, -2.9316792e-05, -2.8238099e-05,\n",
      "       -3.7067555e-05, -4.4940589e-05, -3.1073254e-05, -3.4720993e-05,\n",
      "       -3.5465466e-05, -2.9224884e-05, -3.2764725e-05, -4.6524823e-05,\n",
      "       -2.8290633e-05, -2.5731149e-05, -4.4367996e-05, -3.8008060e-05,\n",
      "       -3.5380999e-05, -3.6234222e-05, -4.5814253e-05, -3.8383740e-05,\n",
      "       -2.9792844e-05, -3.7472782e-05, -3.2653017e-05, -3.7169448e-05,\n",
      "       -3.4284662e-05, -3.8225538e-05, -3.4054148e-05, -3.8346181e-05,\n",
      "       -4.2967935e-05, -4.2208325e-05, -3.8350074e-05, -3.7757884e-05,\n",
      "       -3.2055246e-05, -3.9612431e-05, -3.3236200e-05, -4.7114467e-05,\n",
      "       -3.8583730e-05, -3.2069154e-05, -3.8298720e-05, -4.6022320e-05,\n",
      "       -3.6956157e-05, -3.0694089e-05, -4.3266155e-05, -3.8517639e-05,\n",
      "       -3.3662040e-05, -2.8220844e-05, -3.6887945e-05, -3.4832956e-05,\n",
      "       -3.7061447e-05, -3.2157619e-05, -3.1304036e-05, -4.3509073e-05,\n",
      "       -3.6636928e-05, -3.3756845e-05, -3.9987448e-05, -4.8422298e-05,\n",
      "       -3.4829383e-05, -4.1245246e-05, -2.6550892e-05, -3.0997642e-05,\n",
      "       -2.9259045e-05, -3.1304520e-05, -5.2106720e-05, -3.3541568e-05,\n",
      "       -3.9322731e-05, -3.7882917e-05, -4.3618133e-05, -2.9791066e-05,\n",
      "       -3.5154902e-05, -3.3563872e-05, -3.2360495e-05, -5.0478633e-05,\n",
      "       -3.4727251e-05, -5.3301541e-05, -4.1043080e-05, -3.7204532e-05,\n",
      "       -2.6546199e-05, -3.6981735e-05, -3.2568012e-05, -2.9319210e-05,\n",
      "       -3.6760255e-05, -3.8418333e-05, -3.5114568e-05, -3.0343776e-05,\n",
      "       -4.4279070e-05, -3.3812968e-05, -2.7587745e-05, -3.0799336e-05,\n",
      "       -3.3712662e-05, -3.2400152e-05, -4.3449520e-05, -4.0707186e-05,\n",
      "       -3.4073157e-05, -2.7232871e-05, -4.8055499e-05, -4.2602049e-05,\n",
      "       -3.2152311e-05, -4.8579357e-05, -3.6096306e-05, -4.7705842e-05,\n",
      "       -2.6756748e-05, -4.0477476e-05, -3.5712746e-05, -4.5209308e-05,\n",
      "       -3.2949258e-05, -3.1965345e-05, -4.3766533e-05, -2.8228716e-05,\n",
      "       -4.2446987e-05, -3.3939206e-05, -2.8011014e-05, -3.0926290e-05,\n",
      "       -3.5430050e-05, -3.1758907e-05, -3.0000112e-05, -3.0220646e-05,\n",
      "       -4.1683437e-05, -3.0662188e-05, -3.3122404e-05, -3.3738546e-05,\n",
      "       -3.7929403e-05, -4.3695032e-05, -3.3733773e-05, -4.2290470e-05,\n",
      "       -4.0421943e-05, -3.2556120e-05, -3.6612561e-05, -3.0773357e-05,\n",
      "       -4.7079342e-05, -3.4721652e-05, -3.9750030e-05, -3.6604502e-05,\n",
      "       -5.2380710e-05, -3.2414096e-05, -3.4975816e-05, -3.9821261e-05,\n",
      "       -4.4209544e-05, -3.3409273e-05, -3.1828051e-05, -3.4500270e-05,\n",
      "       -3.3862354e-05, -3.1164636e-05, -2.9647474e-05, -4.5343237e-05,\n",
      "       -3.9245213e-05, -3.7037476e-05, -4.5465127e-05, -3.9284274e-05,\n",
      "       -2.9591904e-05, -3.7319031e-05, -3.0313329e-05, -3.1445707e-05,\n",
      "       -3.2951157e-05, -3.7480098e-05, -3.3710727e-05, -3.5759032e-05,\n",
      "       -3.3522996e-05, -4.4771114e-05, -3.6466517e-05, -2.8996237e-05,\n",
      "       -2.5053507e-05, -1.6402852e-05,  1.3676446e-06,  4.1305284e-05,\n",
      "        8.9623791e-05,  1.8510595e-04,  2.6998573e-04], dtype=float32)]\n"
     ]
    }
   ],
   "source": [
    "print(model.get_weights())"
   ]
  },
  {
   "cell_type": "code",
   "execution_count": 479,
   "metadata": {},
   "outputs": [
    {
     "name": "stdout",
     "output_type": "stream",
     "text": [
      "(47,)\n",
      "[0.         0.36951282 0.60421245 0.17959617 0.07681849 0.28776978\n",
      " 0.77225    0.50783333 0.34768955 0.28571429 0.         0.69387755\n",
      " 0.         0.94888889 0.64516129 0.66666667 0.02564103 0.64516129\n",
      " 0.         0.         0.625      0.16363636 0.5        0.\n",
      " 0.30769231 0.25991189 0.82       0.875      0.64516129 0.48387097\n",
      " 0.         0.31481481 0.38983051 0.8        0.21052632 0.\n",
      " 0.61363636 0.77       0.33333333 0.875      0.14285714 0.39592364\n",
      " 0.28571429 0.5        0.71428571 0.         0.28888889]\n",
      "(1, 47)\n",
      "[[0.00494009 0.00480225 0.00520356 0.00492679 0.00583737 0.00439809\n",
      "  0.00457874 0.00557206 0.00461957 0.00462194 0.00461632 0.00525921\n",
      "  0.00447101 0.00456975 0.00561349 0.00591571 0.00457629 0.00473909\n",
      "  0.00593363 0.00437634 0.00523422 0.00496195 0.00544863 0.00503398\n",
      "  0.0049375  0.0045382  0.00449494 0.00468009 0.00504894 0.00448047\n",
      "  0.00596542 0.00503889 0.00494658 0.00503336 0.0048166  0.00447492\n",
      "  0.00549605 0.00555923 0.00490524 0.00502339 0.00494457 0.00471415\n",
      "  0.00476978 0.00576426 0.00446815 0.00431801 0.00573142 0.00501574\n",
      "  0.00481823 0.00521963 0.00554626 0.0054255  0.00479232 0.00503611\n",
      "  0.00481417 0.0050073  0.00511563 0.00519182 0.0049645  0.00499104\n",
      "  0.00548783 0.00545321 0.00549383 0.00529923 0.00479113 0.00512225\n",
      "  0.0048503  0.00570243 0.0053898  0.00474017 0.00518868 0.00572853\n",
      "  0.00511888 0.00473176 0.00552729 0.00518798 0.00477173 0.00452608\n",
      "  0.0052279  0.00502458 0.00499239 0.00486987 0.004694   0.00560803\n",
      "  0.00505223 0.00488514 0.00525978 0.00550873 0.0048589  0.00531042\n",
      "  0.00432718 0.00470344 0.004435   0.00476897 0.00616358 0.00473542\n",
      "  0.0053185  0.00514022 0.00564032 0.00449369 0.0050751  0.00482098\n",
      "  0.00478547 0.00591811 0.00492207 0.00610186 0.00531232 0.0051928\n",
      "  0.00402461 0.00497369 0.00467742 0.00472766 0.00492227 0.00522616\n",
      "  0.00492443 0.00457514 0.00560899 0.00492635 0.00418265 0.00454206\n",
      "  0.00481282 0.00458975 0.00544017 0.00522977 0.00484233 0.00448349\n",
      "  0.00585224 0.00559302 0.0045792  0.00561529 0.00510305 0.00562609\n",
      "  0.00420353 0.00519683 0.00522997 0.005561   0.00484096 0.00475171\n",
      "  0.00573016 0.00452855 0.00557407 0.00468726 0.00465487 0.00454359\n",
      "  0.00484752 0.00485506 0.00445646 0.00449024 0.00539857 0.00457485\n",
      "  0.00470887 0.00500751 0.0051622  0.0053057  0.00496584 0.00530351\n",
      "  0.00509694 0.00492336 0.0050154  0.0045752  0.00568653 0.00479825\n",
      "  0.00532569 0.00485965 0.00594918 0.00471862 0.00488273 0.0051057\n",
      "  0.00553026 0.00494235 0.00479125 0.0049571  0.00488154 0.00479211\n",
      "  0.00449659 0.00530206 0.00518909 0.00527201 0.00566904 0.00521484\n",
      "  0.00440962 0.00508486 0.00445328 0.00472835 0.00460344 0.00519513\n",
      "  0.0050205  0.00529886 0.00476503 0.00558562 0.00499373 0.00437651\n",
      "  0.00517535 0.00452097 0.00473088 0.00492561 0.00562279 0.00543357\n",
      "  0.00484633]]\n"
     ]
    }
   ],
   "source": [
    "x_test= np.ones(([47,]))\n",
    "print(x_scaled[2].shape)\n",
    "#print(features.iloc[[2]])\n",
    "#print(model.predict(x_scaled[2]))\n",
    "#print(model.predict(X.iloc[[2]]))\n",
    "print(X[0])\n",
    "a = np.array([X[0]])\n",
    "print(a.shape)\n",
    "print(model.predict(a))\n",
    "#print(False*6)"
   ]
  },
  {
   "cell_type": "code",
   "execution_count": 42,
   "metadata": {},
   "outputs": [
    {
     "ename": "Exception",
     "evalue": "You can only call `make_env()` once.",
     "output_type": "error",
     "traceback": [
      "\u001b[0;31m---------------------------------------------------------------------------\u001b[0m",
      "\u001b[0;31mException\u001b[0m                                 Traceback (most recent call last)",
      "\u001b[0;32m<ipython-input-42-accb2690561b>\u001b[0m in \u001b[0;36m<module>\u001b[0;34m\u001b[0m\n\u001b[1;32m      2\u001b[0m \u001b[0;34m\u001b[0m\u001b[0m\n\u001b[1;32m      3\u001b[0m \u001b[0;32mfrom\u001b[0m \u001b[0mkaggle\u001b[0m\u001b[0;34m.\u001b[0m\u001b[0mcompetitions\u001b[0m \u001b[0;32mimport\u001b[0m \u001b[0mnflrush\u001b[0m\u001b[0;34m\u001b[0m\u001b[0;34m\u001b[0m\u001b[0m\n\u001b[0;32m----> 4\u001b[0;31m \u001b[0menv\u001b[0m \u001b[0;34m=\u001b[0m \u001b[0mnflrush\u001b[0m\u001b[0;34m.\u001b[0m\u001b[0mmake_env\u001b[0m\u001b[0;34m(\u001b[0m\u001b[0;34m)\u001b[0m\u001b[0;34m\u001b[0m\u001b[0;34m\u001b[0m\u001b[0m\n\u001b[0m\u001b[1;32m      5\u001b[0m \u001b[0;34m\u001b[0m\u001b[0m\n\u001b[1;32m      6\u001b[0m \u001b[0;32mfor\u001b[0m \u001b[0;34m(\u001b[0m\u001b[0mtestdf\u001b[0m\u001b[0;34m,\u001b[0m \u001b[0msamplepredictiondf\u001b[0m\u001b[0;34m)\u001b[0m \u001b[0;32min\u001b[0m \u001b[0menv\u001b[0m\u001b[0;34m.\u001b[0m\u001b[0miter_test\u001b[0m\u001b[0;34m(\u001b[0m\u001b[0;34m)\u001b[0m\u001b[0;34m:\u001b[0m\u001b[0;34m\u001b[0m\u001b[0;34m\u001b[0m\u001b[0m\n",
      "\u001b[0;32m~/Classes/CS6787/Project/nfl-big-data-bowl-2020/kaggle/competitions/nflrush/competition.cpython-36m-x86_64-linux-gnu.so\u001b[0m in \u001b[0;36mcompetition.make_env\u001b[0;34m()\u001b[0m\n",
      "\u001b[0;31mException\u001b[0m: You can only call `make_env()` once."
     ]
    }
   ],
   "source": [
    "#copy function that evaluates loss\n",
    "\n",
    "\n"
   ]
  },
  {
   "cell_type": "code",
   "execution_count": 44,
   "metadata": {},
   "outputs": [
    {
     "ename": "Exception",
     "evalue": "You can only iterate over `iter_test()` once.",
     "output_type": "error",
     "traceback": [
      "\u001b[0;31m---------------------------------------------------------------------------\u001b[0m",
      "\u001b[0;31mException\u001b[0m                                 Traceback (most recent call last)",
      "\u001b[0;32m<ipython-input-44-0cd8c91e6119>\u001b[0m in \u001b[0;36m<module>\u001b[0;34m\u001b[0m\n\u001b[0;32m----> 1\u001b[0;31m \u001b[0;32mfor\u001b[0m \u001b[0;34m(\u001b[0m\u001b[0mtestdf\u001b[0m\u001b[0;34m,\u001b[0m \u001b[0msamplepredictiondf\u001b[0m\u001b[0;34m)\u001b[0m \u001b[0;32min\u001b[0m \u001b[0menv\u001b[0m\u001b[0;34m.\u001b[0m\u001b[0miter_test\u001b[0m\u001b[0;34m(\u001b[0m\u001b[0;34m)\u001b[0m\u001b[0;34m:\u001b[0m\u001b[0;34m\u001b[0m\u001b[0;34m\u001b[0m\u001b[0m\n\u001b[0m\u001b[1;32m      2\u001b[0m     \u001b[0mprint\u001b[0m\u001b[0;34m(\u001b[0m\u001b[0mtestdf\u001b[0m\u001b[0;34m.\u001b[0m\u001b[0mhead\u001b[0m\u001b[0;34m(\u001b[0m\u001b[0;36m1\u001b[0m\u001b[0;34m)\u001b[0m\u001b[0;34m)\u001b[0m\u001b[0;34m\u001b[0m\u001b[0;34m\u001b[0m\u001b[0m\n\u001b[1;32m      3\u001b[0m     \u001b[0mdf\u001b[0m \u001b[0;34m=\u001b[0m \u001b[0mpipeline\u001b[0m\u001b[0;34m(\u001b[0m\u001b[0mtestdf\u001b[0m\u001b[0;34m)\u001b[0m\u001b[0;34m\u001b[0m\u001b[0;34m\u001b[0m\u001b[0m\n\u001b[1;32m      4\u001b[0m     \u001b[0mprint\u001b[0m\u001b[0;34m(\u001b[0m\u001b[0mdf\u001b[0m\u001b[0;34m.\u001b[0m\u001b[0mhead\u001b[0m\u001b[0;34m(\u001b[0m\u001b[0;36m1\u001b[0m\u001b[0;34m)\u001b[0m\u001b[0;34m)\u001b[0m\u001b[0;34m\u001b[0m\u001b[0;34m\u001b[0m\u001b[0m\n\u001b[1;32m      5\u001b[0m     \u001b[0;31m#predictionsdf = makemypredictions(testdf, samplepredictiondf)\u001b[0m\u001b[0;34m\u001b[0m\u001b[0;34m\u001b[0m\u001b[0;34m\u001b[0m\u001b[0m\n",
      "\u001b[0;32m~/Classes/CS6787/Project/nfl-big-data-bowl-2020/kaggle/competitions/nflrush/competition.cpython-36m-x86_64-linux-gnu.so\u001b[0m in \u001b[0;36miter_test\u001b[0;34m()\u001b[0m\n",
      "\u001b[0;32m~/Classes/CS6787/Project/nfl-big-data-bowl-2020/kaggle/competitions/nflrush/competition.cpython-36m-x86_64-linux-gnu.so\u001b[0m in \u001b[0;36mcompetition.make_env.Competition.__error\u001b[0;34m()\u001b[0m\n",
      "\u001b[0;31mException\u001b[0m: You can only iterate over `iter_test()` once."
     ]
    }
   ],
   "source": [
    "for (testdf, samplepredictiondf) in env.iter_test():\n",
    "    print(testdf.head(1)) \n",
    "    \n",
    "    #predictionsdf = makemypredictions(testdf, samplepredictiondf) \n",
    "    #env.predict(predictionsdf)\n",
    "\n",
    "#for test, sample in tqdm.tqdm(env.iter_test()):\n",
    "#    make_prediction(test,sample,env,model,df_train)\n",
    "    \n",
    "#env.write_submission_file()"
   ]
  },
  {
   "cell_type": "code",
   "execution_count": 47,
   "metadata": {},
   "outputs": [
    {
     "ename": "TypeError",
     "evalue": "strptime() argument 1 must be str, not Timestamp",
     "output_type": "error",
     "traceback": [
      "\u001b[0;31m---------------------------------------------------------------------------\u001b[0m",
      "\u001b[0;31mTypeError\u001b[0m                                 Traceback (most recent call last)",
      "\u001b[0;32m<ipython-input-47-04b3f6fcebbd>\u001b[0m in \u001b[0;36m<module>\u001b[0;34m\u001b[0m\n\u001b[0;32m----> 1\u001b[0;31m \u001b[0mdf\u001b[0m \u001b[0;34m=\u001b[0m \u001b[0mpipeline\u001b[0m\u001b[0;34m(\u001b[0m\u001b[0mtestdf\u001b[0m\u001b[0;34m)\u001b[0m\u001b[0;34m\u001b[0m\u001b[0;34m\u001b[0m\u001b[0m\n\u001b[0m\u001b[1;32m      2\u001b[0m \u001b[0mprint\u001b[0m\u001b[0;34m(\u001b[0m\u001b[0mdf\u001b[0m\u001b[0;34m.\u001b[0m\u001b[0mhead\u001b[0m\u001b[0;34m(\u001b[0m\u001b[0;36m1\u001b[0m\u001b[0;34m)\u001b[0m\u001b[0;34m)\u001b[0m\u001b[0;34m\u001b[0m\u001b[0;34m\u001b[0m\u001b[0m\n",
      "\u001b[0;32m<ipython-input-46-e255b7f7ef76>\u001b[0m in \u001b[0;36mpipeline\u001b[0;34m(df, train)\u001b[0m\n\u001b[1;32m     17\u001b[0m \u001b[0;34m\u001b[0m\u001b[0m\n\u001b[1;32m     18\u001b[0m \u001b[0;34m\u001b[0m\u001b[0m\n\u001b[0;32m---> 19\u001b[0;31m     \u001b[0mdf\u001b[0m\u001b[0;34m[\u001b[0m\u001b[0;34m'TimeHandoff'\u001b[0m\u001b[0;34m]\u001b[0m \u001b[0;34m=\u001b[0m \u001b[0mdf\u001b[0m\u001b[0;34m[\u001b[0m\u001b[0;34m'TimeHandoff'\u001b[0m\u001b[0;34m]\u001b[0m\u001b[0;34m.\u001b[0m\u001b[0mapply\u001b[0m\u001b[0;34m(\u001b[0m\u001b[0;32mlambda\u001b[0m \u001b[0mx\u001b[0m\u001b[0;34m:\u001b[0m \u001b[0mdatetime\u001b[0m\u001b[0;34m.\u001b[0m\u001b[0mdatetime\u001b[0m\u001b[0;34m.\u001b[0m\u001b[0mstrptime\u001b[0m\u001b[0;34m(\u001b[0m\u001b[0mx\u001b[0m\u001b[0;34m,\u001b[0m \u001b[0;34m\"%Y-%m-%dT%H:%M:%S.%fZ\"\u001b[0m\u001b[0;34m)\u001b[0m\u001b[0;34m)\u001b[0m\u001b[0;34m\u001b[0m\u001b[0;34m\u001b[0m\u001b[0m\n\u001b[0m\u001b[1;32m     20\u001b[0m     \u001b[0mdf\u001b[0m\u001b[0;34m[\u001b[0m\u001b[0;34m'TimeSnap'\u001b[0m\u001b[0;34m]\u001b[0m \u001b[0;34m=\u001b[0m \u001b[0mdf\u001b[0m\u001b[0;34m[\u001b[0m\u001b[0;34m'TimeSnap'\u001b[0m\u001b[0;34m]\u001b[0m\u001b[0;34m.\u001b[0m\u001b[0mapply\u001b[0m\u001b[0;34m(\u001b[0m\u001b[0;32mlambda\u001b[0m \u001b[0mx\u001b[0m\u001b[0;34m:\u001b[0m \u001b[0mdatetime\u001b[0m\u001b[0;34m.\u001b[0m\u001b[0mdatetime\u001b[0m\u001b[0;34m.\u001b[0m\u001b[0mstrptime\u001b[0m\u001b[0;34m(\u001b[0m\u001b[0mx\u001b[0m\u001b[0;34m,\u001b[0m \u001b[0;34m\"%Y-%m-%dT%H:%M:%S.%fZ\"\u001b[0m\u001b[0;34m)\u001b[0m\u001b[0;34m)\u001b[0m\u001b[0;34m\u001b[0m\u001b[0;34m\u001b[0m\u001b[0m\n\u001b[1;32m     21\u001b[0m     \u001b[0mdf\u001b[0m\u001b[0;34m[\u001b[0m\u001b[0;34m'TimeDelta'\u001b[0m\u001b[0;34m]\u001b[0m \u001b[0;34m=\u001b[0m \u001b[0mdf\u001b[0m\u001b[0;34m.\u001b[0m\u001b[0mapply\u001b[0m\u001b[0;34m(\u001b[0m\u001b[0;32mlambda\u001b[0m \u001b[0mrow\u001b[0m\u001b[0;34m:\u001b[0m \u001b[0;34m(\u001b[0m\u001b[0mrow\u001b[0m\u001b[0;34m[\u001b[0m\u001b[0;34m'TimeHandoff'\u001b[0m\u001b[0;34m]\u001b[0m \u001b[0;34m-\u001b[0m \u001b[0mrow\u001b[0m\u001b[0;34m[\u001b[0m\u001b[0;34m'TimeSnap'\u001b[0m\u001b[0;34m]\u001b[0m\u001b[0;34m)\u001b[0m\u001b[0;34m.\u001b[0m\u001b[0mtotal_seconds\u001b[0m\u001b[0;34m(\u001b[0m\u001b[0;34m)\u001b[0m\u001b[0;34m,\u001b[0m \u001b[0maxis\u001b[0m\u001b[0;34m=\u001b[0m\u001b[0;36m1\u001b[0m\u001b[0;34m)\u001b[0m\u001b[0;34m\u001b[0m\u001b[0;34m\u001b[0m\u001b[0m\n",
      "\u001b[0;32m~/.local/lib/python3.6/site-packages/pandas/core/series.py\u001b[0m in \u001b[0;36mapply\u001b[0;34m(self, func, convert_dtype, args, **kwds)\u001b[0m\n\u001b[1;32m   4043\u001b[0m             \u001b[0;32melse\u001b[0m\u001b[0;34m:\u001b[0m\u001b[0;34m\u001b[0m\u001b[0;34m\u001b[0m\u001b[0m\n\u001b[1;32m   4044\u001b[0m                 \u001b[0mvalues\u001b[0m \u001b[0;34m=\u001b[0m \u001b[0mself\u001b[0m\u001b[0;34m.\u001b[0m\u001b[0mastype\u001b[0m\u001b[0;34m(\u001b[0m\u001b[0mobject\u001b[0m\u001b[0;34m)\u001b[0m\u001b[0;34m.\u001b[0m\u001b[0mvalues\u001b[0m\u001b[0;34m\u001b[0m\u001b[0;34m\u001b[0m\u001b[0m\n\u001b[0;32m-> 4045\u001b[0;31m                 \u001b[0mmapped\u001b[0m \u001b[0;34m=\u001b[0m \u001b[0mlib\u001b[0m\u001b[0;34m.\u001b[0m\u001b[0mmap_infer\u001b[0m\u001b[0;34m(\u001b[0m\u001b[0mvalues\u001b[0m\u001b[0;34m,\u001b[0m \u001b[0mf\u001b[0m\u001b[0;34m,\u001b[0m \u001b[0mconvert\u001b[0m\u001b[0;34m=\u001b[0m\u001b[0mconvert_dtype\u001b[0m\u001b[0;34m)\u001b[0m\u001b[0;34m\u001b[0m\u001b[0;34m\u001b[0m\u001b[0m\n\u001b[0m\u001b[1;32m   4046\u001b[0m \u001b[0;34m\u001b[0m\u001b[0m\n\u001b[1;32m   4047\u001b[0m         \u001b[0;32mif\u001b[0m \u001b[0mlen\u001b[0m\u001b[0;34m(\u001b[0m\u001b[0mmapped\u001b[0m\u001b[0;34m)\u001b[0m \u001b[0;32mand\u001b[0m \u001b[0misinstance\u001b[0m\u001b[0;34m(\u001b[0m\u001b[0mmapped\u001b[0m\u001b[0;34m[\u001b[0m\u001b[0;36m0\u001b[0m\u001b[0;34m]\u001b[0m\u001b[0;34m,\u001b[0m \u001b[0mSeries\u001b[0m\u001b[0;34m)\u001b[0m\u001b[0;34m:\u001b[0m\u001b[0;34m\u001b[0m\u001b[0;34m\u001b[0m\u001b[0m\n",
      "\u001b[0;32mpandas/_libs/lib.pyx\u001b[0m in \u001b[0;36mpandas._libs.lib.map_infer\u001b[0;34m()\u001b[0m\n",
      "\u001b[0;32m<ipython-input-46-e255b7f7ef76>\u001b[0m in \u001b[0;36m<lambda>\u001b[0;34m(x)\u001b[0m\n\u001b[1;32m     17\u001b[0m \u001b[0;34m\u001b[0m\u001b[0m\n\u001b[1;32m     18\u001b[0m \u001b[0;34m\u001b[0m\u001b[0m\n\u001b[0;32m---> 19\u001b[0;31m     \u001b[0mdf\u001b[0m\u001b[0;34m[\u001b[0m\u001b[0;34m'TimeHandoff'\u001b[0m\u001b[0;34m]\u001b[0m \u001b[0;34m=\u001b[0m \u001b[0mdf\u001b[0m\u001b[0;34m[\u001b[0m\u001b[0;34m'TimeHandoff'\u001b[0m\u001b[0;34m]\u001b[0m\u001b[0;34m.\u001b[0m\u001b[0mapply\u001b[0m\u001b[0;34m(\u001b[0m\u001b[0;32mlambda\u001b[0m \u001b[0mx\u001b[0m\u001b[0;34m:\u001b[0m \u001b[0mdatetime\u001b[0m\u001b[0;34m.\u001b[0m\u001b[0mdatetime\u001b[0m\u001b[0;34m.\u001b[0m\u001b[0mstrptime\u001b[0m\u001b[0;34m(\u001b[0m\u001b[0mx\u001b[0m\u001b[0;34m,\u001b[0m \u001b[0;34m\"%Y-%m-%dT%H:%M:%S.%fZ\"\u001b[0m\u001b[0;34m)\u001b[0m\u001b[0;34m)\u001b[0m\u001b[0;34m\u001b[0m\u001b[0;34m\u001b[0m\u001b[0m\n\u001b[0m\u001b[1;32m     20\u001b[0m     \u001b[0mdf\u001b[0m\u001b[0;34m[\u001b[0m\u001b[0;34m'TimeSnap'\u001b[0m\u001b[0;34m]\u001b[0m \u001b[0;34m=\u001b[0m \u001b[0mdf\u001b[0m\u001b[0;34m[\u001b[0m\u001b[0;34m'TimeSnap'\u001b[0m\u001b[0;34m]\u001b[0m\u001b[0;34m.\u001b[0m\u001b[0mapply\u001b[0m\u001b[0;34m(\u001b[0m\u001b[0;32mlambda\u001b[0m \u001b[0mx\u001b[0m\u001b[0;34m:\u001b[0m \u001b[0mdatetime\u001b[0m\u001b[0;34m.\u001b[0m\u001b[0mdatetime\u001b[0m\u001b[0;34m.\u001b[0m\u001b[0mstrptime\u001b[0m\u001b[0;34m(\u001b[0m\u001b[0mx\u001b[0m\u001b[0;34m,\u001b[0m \u001b[0;34m\"%Y-%m-%dT%H:%M:%S.%fZ\"\u001b[0m\u001b[0;34m)\u001b[0m\u001b[0;34m)\u001b[0m\u001b[0;34m\u001b[0m\u001b[0;34m\u001b[0m\u001b[0m\n\u001b[1;32m     21\u001b[0m     \u001b[0mdf\u001b[0m\u001b[0;34m[\u001b[0m\u001b[0;34m'TimeDelta'\u001b[0m\u001b[0;34m]\u001b[0m \u001b[0;34m=\u001b[0m \u001b[0mdf\u001b[0m\u001b[0;34m.\u001b[0m\u001b[0mapply\u001b[0m\u001b[0;34m(\u001b[0m\u001b[0;32mlambda\u001b[0m \u001b[0mrow\u001b[0m\u001b[0;34m:\u001b[0m \u001b[0;34m(\u001b[0m\u001b[0mrow\u001b[0m\u001b[0;34m[\u001b[0m\u001b[0;34m'TimeHandoff'\u001b[0m\u001b[0;34m]\u001b[0m \u001b[0;34m-\u001b[0m \u001b[0mrow\u001b[0m\u001b[0;34m[\u001b[0m\u001b[0;34m'TimeSnap'\u001b[0m\u001b[0;34m]\u001b[0m\u001b[0;34m)\u001b[0m\u001b[0;34m.\u001b[0m\u001b[0mtotal_seconds\u001b[0m\u001b[0;34m(\u001b[0m\u001b[0;34m)\u001b[0m\u001b[0;34m,\u001b[0m \u001b[0maxis\u001b[0m\u001b[0;34m=\u001b[0m\u001b[0;36m1\u001b[0m\u001b[0;34m)\u001b[0m\u001b[0;34m\u001b[0m\u001b[0;34m\u001b[0m\u001b[0m\n",
      "\u001b[0;31mTypeError\u001b[0m: strptime() argument 1 must be str, not Timestamp"
     ]
    }
   ],
   "source": [
    "df = pipeline(testdf)\n",
    "print(df.head(1))"
   ]
  },
  {
   "cell_type": "code",
   "execution_count": null,
   "metadata": {},
   "outputs": [],
   "source": []
  }
 ],
 "metadata": {
  "kernelspec": {
   "display_name": "Python 3",
   "language": "python",
   "name": "python3"
  },
  "language_info": {
   "codemirror_mode": {
    "name": "ipython",
    "version": 3
   },
   "file_extension": ".py",
   "mimetype": "text/x-python",
   "name": "python",
   "nbconvert_exporter": "python",
   "pygments_lexer": "ipython3",
   "version": "3.6.8"
  }
 },
 "nbformat": 4,
 "nbformat_minor": 2
}
